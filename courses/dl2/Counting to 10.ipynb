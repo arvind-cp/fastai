{
 "cells": [
  {
   "cell_type": "code",
   "execution_count": 1,
   "metadata": {},
   "outputs": [],
   "source": [
    "import fastai\n",
    "from fastai import learner\n",
    "from fastai import dataset\n",
    "from fastai import model\n",
    "from fastai.model import resnet34\n",
    "from pathlib import Path\n",
    "from fastai.text import *\n",
    "\n",
    "import pandas as pd\n",
    "import numpy as np\n",
    "import spacy\n",
    "import json\n",
    "import re\n",
    "import html"
   ]
  },
  {
   "cell_type": "code",
   "execution_count": 2,
   "metadata": {},
   "outputs": [],
   "source": [
    "numbers = [\"zero\", \"one\", \"two\", \"three\", \"four\", \"five\", \"six\", \"seven\", \"eight\", \"nine\"]"
   ]
  },
  {
   "cell_type": "code",
   "execution_count": 5,
   "metadata": {},
   "outputs": [],
   "source": [
    "myData = pd.DataFrame()\n",
    "def DataGenerator():\n",
    "    numlist = \"\"\n",
    "    starting_num = random.randint(0,9)\n",
    "    for i in range(10):\n",
    "        if i==0:\n",
    "            numlist = str(numbers[(starting_num+i)%10])\n",
    "        else:\n",
    "            numlist = numlist + \" \" + str(numbers[(starting_num+i)%10])\n",
    "    return numlist\n",
    "DataGenerator()\n",
    "for i in range(10000):\n",
    "    myData = myData.append(pd.Series(DataGenerator()), ignore_index=True)\n",
    "tok = Tokenizer()\n",
    "texts = myData[0].astype(str)\n",
    "#data = tok.proc_all_mp(partition_by_cores(texts.values.astype(str)))\n",
    "data = tok.proc_all(texts.values.astype(str),'en')"
   ]
  },
  {
   "cell_type": "code",
   "execution_count": 6,
   "metadata": {},
   "outputs": [],
   "source": [
    "freq = Counter(p for o in data for p in o)"
   ]
  },
  {
   "cell_type": "code",
   "execution_count": 7,
   "metadata": {},
   "outputs": [],
   "source": [
    "itos = [o for o,c in freq.most_common(10) if c > 2]\n",
    "itos.insert(0, '_pad_')\n",
    "itos.insert(0, '_unk_')"
   ]
  },
  {
   "cell_type": "code",
   "execution_count": 8,
   "metadata": {},
   "outputs": [
    {
     "data": {
      "text/plain": [
       "[('four', 10000),\n",
       " ('five', 10000),\n",
       " ('six', 10000),\n",
       " ('seven', 10000),\n",
       " ('eight', 10000),\n",
       " ('nine', 10000),\n",
       " ('zero', 10000),\n",
       " ('one', 10000),\n",
       " ('two', 10000),\n",
       " ('three', 10000)]"
      ]
     },
     "execution_count": 8,
     "metadata": {},
     "output_type": "execute_result"
    }
   ],
   "source": [
    "freq.most_common(10)"
   ]
  },
  {
   "cell_type": "code",
   "execution_count": 9,
   "metadata": {},
   "outputs": [
    {
     "data": {
      "text/plain": [
       "12"
      ]
     },
     "execution_count": 9,
     "metadata": {},
     "output_type": "execute_result"
    }
   ],
   "source": [
    "stoi = collections.defaultdict(lambda:0, {v:k for k,v in enumerate(itos)})\n",
    "len(stoi)"
   ]
  },
  {
   "cell_type": "code",
   "execution_count": 10,
   "metadata": {},
   "outputs": [],
   "source": [
    "tokenized_data = [[stoi[o] for o in i] for i in data]"
   ]
  },
  {
   "cell_type": "code",
   "execution_count": 11,
   "metadata": {},
   "outputs": [
    {
     "data": {
      "text/plain": [
       "[[2, 3, 4, 5, 6, 7, 8, 9, 10, 11],\n",
       " [7, 8, 9, 10, 11, 2, 3, 4, 5, 6],\n",
       " [11, 2, 3, 4, 5, 6, 7, 8, 9, 10],\n",
       " [4, 5, 6, 7, 8, 9, 10, 11, 2, 3],\n",
       " [6, 7, 8, 9, 10, 11, 2, 3, 4, 5],\n",
       " [5, 6, 7, 8, 9, 10, 11, 2, 3, 4],\n",
       " [11, 2, 3, 4, 5, 6, 7, 8, 9, 10],\n",
       " [5, 6, 7, 8, 9, 10, 11, 2, 3, 4],\n",
       " [8, 9, 10, 11, 2, 3, 4, 5, 6, 7],\n",
       " [3, 4, 5, 6, 7, 8, 9, 10, 11, 2]]"
      ]
     },
     "execution_count": 11,
     "metadata": {},
     "output_type": "execute_result"
    }
   ],
   "source": [
    "tokenized_data[:10]"
   ]
  },
  {
   "cell_type": "code",
   "execution_count": 12,
   "metadata": {},
   "outputs": [],
   "source": [
    "PATH = Path(\"data/counterExample/\")"
   ]
  },
  {
   "cell_type": "code",
   "execution_count": 13,
   "metadata": {},
   "outputs": [],
   "source": [
    "em_sz,nh,nl = 12,12,2\n",
    "wd=1e-7\n",
    "bptt=10\n",
    "bs=8\n",
    "opt_fn = partial(optim.Adam, betas=(0.8, 0.99))"
   ]
  },
  {
   "cell_type": "code",
   "execution_count": 14,
   "metadata": {},
   "outputs": [],
   "source": [
    "combined_tokenized_data = np.concatenate(tokenized_data)"
   ]
  },
  {
   "cell_type": "code",
   "execution_count": 15,
   "metadata": {},
   "outputs": [],
   "source": [
    "dataloader = LanguageModelLoader(combined_tokenized_data, bs, bptt)"
   ]
  },
  {
   "cell_type": "code",
   "execution_count": 16,
   "metadata": {},
   "outputs": [],
   "source": [
    "modeldata = LanguageModelData(PATH,1,len(stoi), dataloader, dataloader)"
   ]
  },
  {
   "cell_type": "code",
   "execution_count": 17,
   "metadata": {},
   "outputs": [],
   "source": [
    "learner = modeldata.get_model(opt_fn, em_sz, nh, nl)\n",
    "learner.metrics = [accuracy]\n",
    "learner.unfreeze()"
   ]
  },
  {
   "cell_type": "code",
   "execution_count": 18,
   "metadata": {},
   "outputs": [
    {
     "data": {
      "application/vnd.jupyter.widget-view+json": {
       "model_id": "2abb4238e8324bf68fea925b6e79cc06",
       "version_major": 2,
       "version_minor": 0
      },
      "text/plain": [
       "HBox(children=(IntProgress(value=0, description='Epoch', max=1), HTML(value='')))"
      ]
     },
     "metadata": {},
     "output_type": "display_data"
    },
    {
     "name": "stdout",
     "output_type": "stream",
     "text": [
      "epoch      trn_loss   val_loss   accuracy                     \n",
      "    0      2.422673   2.20976    0.268638  \n",
      "\n"
     ]
    }
   ],
   "source": [
    "learner.lr_find(1e-4, 1)"
   ]
  },
  {
   "cell_type": "code",
   "execution_count": 19,
   "metadata": {},
   "outputs": [
    {
     "data": {
      "image/png": "[encoded data removed]",
      "text/plain": [
       "<Figure size 432x288 with 1 Axes>"
      ]
     },
     "metadata": {},
     "output_type": "display_data"
    }
   ],
   "source": [
    "learner.sched.plot()"
   ]
  },
  {
   "cell_type": "code",
   "execution_count": 20,
   "metadata": {},
   "outputs": [],
   "source": [
    "lr=2e-2"
   ]
  },
  {
   "cell_type": "code",
   "execution_count": 21,
   "metadata": {},
   "outputs": [
    {
     "data": {
      "application/vnd.jupyter.widget-view+json": {
       "model_id": "5b5d3d4b45354ebcad978b13eefb8e7d",
       "version_major": 2,
       "version_minor": 0
      },
      "text/plain": [
       "HBox(children=(IntProgress(value=0, description='Epoch', max=4), HTML(value='')))"
      ]
     },
     "metadata": {},
     "output_type": "display_data"
    },
    {
     "name": "stdout",
     "output_type": "stream",
     "text": [
      "epoch      trn_loss   val_loss   accuracy                     \n",
      "    0      1.248334   0.715402   0.903277  \n",
      "    1      1.12616    0.592809   0.910194                     \n",
      "    2      1.060565   0.57552    0.910173                     \n",
      "    3      1.025335   0.56822    0.910169                     \n",
      "\n"
     ]
    },
    {
     "data": {
      "text/plain": [
       "[array([0.56822]), 0.9101687937422808]"
      ]
     },
     "execution_count": 21,
     "metadata": {},
     "output_type": "execute_result"
    }
   ],
   "source": [
    "learner.fit(lr,4)"
   ]
  },
  {
   "cell_type": "code",
   "execution_count": 26,
   "metadata": {},
   "outputs": [
    {
     "data": {
      "application/vnd.jupyter.widget-view+json": {
       "model_id": "17fd908065e644069decff6c06052bb8",
       "version_major": 2,
       "version_minor": 0
      },
      "text/plain": [
       "HBox(children=(IntProgress(value=0, description='Epoch', max=2), HTML(value='')))"
      ]
     },
     "metadata": {},
     "output_type": "display_data"
    },
    {
     "name": "stdout",
     "output_type": "stream",
     "text": [
      "epoch      trn_loss   val_loss   accuracy                      \n",
      "    0      1.044155   0.559854   0.910135  \n",
      "    1      0.973793   0.553958   0.910162                      \n",
      "\n"
     ]
    },
    {
     "data": {
      "text/plain": [
       "[array([0.55396]), 0.9101621260237339]"
      ]
     },
     "execution_count": 26,
     "metadata": {},
     "output_type": "execute_result"
    }
   ],
   "source": [
    "learner.fit(lr/2,2)"
   ]
  },
  {
   "cell_type": "code",
   "execution_count": 27,
   "metadata": {},
   "outputs": [
    {
     "name": "stdout",
     "output_type": "stream",
     "text": [
      "['four', 'five', 'six', 'seven', 'eight', 'nine', 'zero', 'one', 'two', 'three']\n"
     ]
    }
   ],
   "source": [
    "num = stoi[\"three\"]\n",
    "list_of_nums = []\n",
    "for i in range(10):\n",
    "    needPrediction = np.array([[num]])\n",
    "    probs = learner.model(V(needPrediction))\n",
    "    pred = to_np(probs[0][-1].exp()).argmax()\n",
    "    list_of_nums += [itos[pred]]\n",
    "    num = pred\n",
    "print(list_of_nums)"
   ]
  },
  {
   "cell_type": "code",
   "execution_count": null,
   "metadata": {},
   "outputs": [],
   "source": []
  }
 ],
 "metadata": {
  "kernelspec": {
   "display_name": "Python 3",
   "language": "python",
   "name": "python3"
  },
  "language_info": {
   "codemirror_mode": {
    "name": "ipython",
    "version": 3
   },
   "file_extension": ".py",
   "mimetype": "text/x-python",
   "name": "python",
   "nbconvert_exporter": "python",
   "pygments_lexer": "ipython3",
   "version": "3.6.5"
  }
 },
 "nbformat": 4,
 "nbformat_minor": 2
}
