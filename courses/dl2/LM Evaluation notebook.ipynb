{
 "cells": [
  {
   "cell_type": "markdown",
   "metadata": {},
   "source": [
    "## LM Evaluation"
   ]
  },
  {
   "cell_type": "code",
   "execution_count": 1,
   "metadata": {},
   "outputs": [],
   "source": [
    "from fastai.text import *\n",
    "import html"
   ]
  },
  {
   "cell_type": "code",
   "execution_count": 2,
   "metadata": {},
   "outputs": [],
   "source": [
    "PATH=Path('data/aclImdb/')\n",
    "CLAS_PATH=Path('data/imdb_clas/')\n",
    "LM_PATH=Path('data/imdb_lm/')"
   ]
  },
  {
   "cell_type": "code",
   "execution_count": 3,
   "metadata": {},
   "outputs": [],
   "source": [
    "trn_lm = np.load(LM_PATH/'tmp'/'trn_ids.npy')\n",
    "val_lm = np.load(LM_PATH/'tmp'/'val_ids.npy')\n",
    "itos = pickle.load(open(LM_PATH/'tmp'/'itos.pkl', 'rb'))"
   ]
  },
  {
   "cell_type": "code",
   "execution_count": 4,
   "metadata": {},
   "outputs": [],
   "source": [
    "max_vocab = 60000\n",
    "min_freq = 2"
   ]
  },
  {
   "cell_type": "code",
   "execution_count": 5,
   "metadata": {},
   "outputs": [
    {
     "data": {
      "text/plain": [
       "60002"
      ]
     },
     "execution_count": 5,
     "metadata": {},
     "output_type": "execute_result"
    }
   ],
   "source": [
    "stoi = collections.defaultdict(lambda:0, {v:k for k,v in enumerate(itos)})\n",
    "len(itos)"
   ]
  },
  {
   "cell_type": "code",
   "execution_count": 6,
   "metadata": {},
   "outputs": [
    {
     "data": {
      "text/plain": [
       "(60002, 90000)"
      ]
     },
     "execution_count": 6,
     "metadata": {},
     "output_type": "execute_result"
    }
   ],
   "source": [
    "vs=len(itos)\n",
    "vs,len(trn_lm)"
   ]
  },
  {
   "cell_type": "code",
   "execution_count": 7,
   "metadata": {},
   "outputs": [],
   "source": [
    "em_sz,nh,nl = 400,1150,3"
   ]
  },
  {
   "cell_type": "markdown",
   "metadata": {},
   "source": [
    "## Load existing LM model and weights"
   ]
  },
  {
   "cell_type": "code",
   "execution_count": 8,
   "metadata": {},
   "outputs": [],
   "source": [
    "PRE_PATH = PATH/'models'/'wt103'\n",
    "PRE_LM_PATH = PRE_PATH/'fwd_wt103.h5'"
   ]
  },
  {
   "cell_type": "code",
   "execution_count": 9,
   "metadata": {},
   "outputs": [],
   "source": [
    "wgts = torch.load(PRE_LM_PATH, map_location=lambda storage, loc: storage)"
   ]
  },
  {
   "cell_type": "code",
   "execution_count": 10,
   "metadata": {},
   "outputs": [],
   "source": [
    "wd=1e-7\n",
    "bptt=70\n",
    "bs=250\n",
    "opt_fn = partial(optim.Adam, betas=(0.8, 0.99))"
   ]
  },
  {
   "cell_type": "code",
   "execution_count": 11,
   "metadata": {},
   "outputs": [],
   "source": [
    "trn_dl = LanguageModelLoader(np.concatenate(trn_lm), bs, bptt)\n",
    "val_dl = LanguageModelLoader(np.concatenate(val_lm), bs, bptt)\n",
    "md = LanguageModelData(PATH, 1, vs, trn_dl, val_dl, bs=bs, bptt=bptt)"
   ]
  },
  {
   "cell_type": "code",
   "execution_count": 12,
   "metadata": {},
   "outputs": [],
   "source": [
    "drops = np.array([0.25, 0.1, 0.2, 0.02, 0.15])*0.7"
   ]
  },
  {
   "cell_type": "code",
   "execution_count": 13,
   "metadata": {},
   "outputs": [],
   "source": [
    "learner= md.get_model(opt_fn, em_sz, nh, nl, \n",
    "    dropouti=drops[0], dropout=drops[1], wdrop=drops[2], dropoute=drops[3], dropouth=drops[4])\n",
    "\n",
    "learner.metrics = [accuracy]\n",
    "learner.unfreeze()"
   ]
  },
  {
   "cell_type": "markdown",
   "metadata": {},
   "source": [
    "## Replace weights from classifier-encoder (not LM)"
   ]
  },
  {
   "cell_type": "code",
   "execution_count": 14,
   "metadata": {},
   "outputs": [],
   "source": [
    "learner.load('lm1')\n",
    "#learner.load_encoder('lm1_enc')\n",
    "learner.load_encoder('clas_2_enc')"
   ]
  },
  {
   "cell_type": "markdown",
   "metadata": {},
   "source": [
    "## Let's evaluate"
   ]
  },
  {
   "cell_type": "markdown",
   "metadata": {},
   "source": [
    "Our goal: Encode 3 sentences using a pre-trained encoder and check the similarity scores between each pair of sentences. We use 2 methods to calculate semantic similarity: cosine similarity and inner product of encodings."
   ]
  },
  {
   "cell_type": "code",
   "execution_count": 15,
   "metadata": {},
   "outputs": [],
   "source": [
    "# cosine similarity - to check quality of our sentence encoder\n",
    "def cos_sim(v1,v2):\n",
    "    return F.cosine_similarity(T(v1).unsqueeze(0),T(v2).unsqueeze(0)).mean()"
   ]
  },
  {
   "cell_type": "markdown",
   "metadata": {},
   "source": [
    "### Round 1 - simple sentences"
   ]
  },
  {
   "cell_type": "code",
   "execution_count": 16,
   "metadata": {},
   "outputs": [],
   "source": [
    "x_inp = [\"i like apples\",\n",
    "         \"i want to buy some apples\",\n",
    "         \"where is your cell phone\"]"
   ]
  },
  {
   "cell_type": "code",
   "execution_count": 17,
   "metadata": {},
   "outputs": [],
   "source": [
    "tok = Tokenizer().proc_all_mp(partition_by_cores(x_inp))"
   ]
  },
  {
   "cell_type": "code",
   "execution_count": 18,
   "metadata": {},
   "outputs": [
    {
     "data": {
      "text/plain": [
       "[['i', 'like', 'apples'],\n",
       " ['i', 'want', 'to', 'buy', 'some', 'apples'],\n",
       " ['where', 'is', 'your', 'cell', 'phone']]"
      ]
     },
     "execution_count": 18,
     "metadata": {},
     "output_type": "execute_result"
    }
   ],
   "source": [
    "tok"
   ]
  },
  {
   "cell_type": "code",
   "execution_count": 19,
   "metadata": {},
   "outputs": [
    {
     "data": {
      "text/plain": [
       "[[12, 52, 13154], [12, 203, 8, 808, 64, 13154], [134, 9, 146, 2739, 1668]]"
      ]
     },
     "execution_count": 19,
     "metadata": {},
     "output_type": "execute_result"
    }
   ],
   "source": [
    "X = [[stoi[o1] for o1 in o] for o in tok]; X"
   ]
  },
  {
   "cell_type": "code",
   "execution_count": 20,
   "metadata": {},
   "outputs": [
    {
     "data": {
      "text/plain": [
       "(400,)"
      ]
     },
     "execution_count": 20,
     "metadata": {},
     "output_type": "execute_result"
    }
   ],
   "source": [
    "m = learner.model\n",
    "\n",
    "# Set batch size to 1\n",
    "#m[0].bs=1\n",
    "# Turn off dropout\n",
    "#m.eval()\n",
    "# Reset hidden state\n",
    "#m.reset()\n",
    "\n",
    "kk0=m[0](V(T([X[0]]))) #first sentence in X - sentence level encoding....10 words 400 dim vecs\n",
    "kk1=m[0](V(T([X[1]]))) #second sentence in X - sentence level encoding....10 words 400 dim vecs\n",
    "kk2=m[0](V(T([X[2]]))) #third sentence in X - sentence level encoding....10 words 400 dim vecs\n",
    "\n",
    "\n",
    "kk0=to_np(kk0)\n",
    "kk1=to_np(kk1)\n",
    "kk2=to_np(kk2)\n",
    "\n",
    "\n",
    "kk0 = (kk0[0][2][0][-1]) # 1st sentence encoding 400 dims. -1 is the last element that's supposed to have the final encoded state\n",
    "kk1 = (kk1[0][2][0][-1]) # 2nd sentence encoding 400 dims\n",
    "kk2 = (kk2[0][2][0][-1]) # 3rd sentence encoding 400 dims\n",
    "\n",
    "\n",
    "kk1.shape"
   ]
  },
  {
   "cell_type": "code",
   "execution_count": 21,
   "metadata": {},
   "outputs": [
    {
     "data": {
      "text/plain": [
       "['i like apples', 'i want to buy some apples', 'where is your cell phone']"
      ]
     },
     "execution_count": 21,
     "metadata": {},
     "output_type": "execute_result"
    }
   ],
   "source": [
    "x_inp"
   ]
  },
  {
   "cell_type": "code",
   "execution_count": 22,
   "metadata": {},
   "outputs": [
    {
     "data": {
      "text/plain": [
       "(0.9012137055397034, 0.10716721415519714, 0.10006072372198105)"
      ]
     },
     "execution_count": 22,
     "metadata": {},
     "output_type": "execute_result"
    }
   ],
   "source": [
    "cos_sim(kk0,kk1), cos_sim(kk1,kk2), cos_sim(kk0,kk2)"
   ]
  },
  {
   "cell_type": "code",
   "execution_count": 23,
   "metadata": {},
   "outputs": [
    {
     "data": {
      "text/plain": [
       "2.2242155"
      ]
     },
     "execution_count": 23,
     "metadata": {},
     "output_type": "execute_result"
    }
   ],
   "source": [
    "np.inner(kk0,kk1)"
   ]
  },
  {
   "cell_type": "code",
   "execution_count": 24,
   "metadata": {},
   "outputs": [
    {
     "data": {
      "text/plain": [
       "0.43152505"
      ]
     },
     "execution_count": 24,
     "metadata": {},
     "output_type": "execute_result"
    }
   ],
   "source": [
    "np.inner(kk1,kk2)"
   ]
  },
  {
   "cell_type": "code",
   "execution_count": 25,
   "metadata": {},
   "outputs": [
    {
     "data": {
      "text/plain": [
       "0.48829192"
      ]
     },
     "execution_count": 25,
     "metadata": {},
     "output_type": "execute_result"
    }
   ],
   "source": [
    "np.inner(kk0,kk2)"
   ]
  },
  {
   "cell_type": "markdown",
   "metadata": {},
   "source": [
    "### Round 2 - increase sentence complexity"
   ]
  },
  {
   "cell_type": "code",
   "execution_count": 26,
   "metadata": {},
   "outputs": [],
   "source": [
    "x_inp = [\"i like apples and oranges\",\n",
    "         \"i hate all fruits especially apples and oranges\",\n",
    "         \"i am going to buy some apples and oranges\"]"
   ]
  },
  {
   "cell_type": "code",
   "execution_count": 27,
   "metadata": {},
   "outputs": [],
   "source": [
    "tok = Tokenizer().proc_all_mp(partition_by_cores(x_inp))"
   ]
  },
  {
   "cell_type": "code",
   "execution_count": 28,
   "metadata": {},
   "outputs": [
    {
     "data": {
      "text/plain": [
       "[['i', 'like', 'apples', 'and', 'oranges'],\n",
       " ['i', 'hate', 'all', 'fruits', 'especially', 'apples', 'and', 'oranges'],\n",
       " ['i', 'am', 'going', 'to', 'buy', 'some', 'apples', 'and', 'oranges']]"
      ]
     },
     "execution_count": 28,
     "metadata": {},
     "output_type": "execute_result"
    }
   ],
   "source": [
    "tok"
   ]
  },
  {
   "cell_type": "code",
   "execution_count": 29,
   "metadata": {},
   "outputs": [
    {
     "data": {
      "text/plain": [
       "[[12, 52, 13154, 5, 20864],\n",
       " [12, 738, 43, 22144, 280, 13154, 5, 20864],\n",
       " [12, 261, 182, 8, 808, 64, 13154, 5, 20864]]"
      ]
     },
     "execution_count": 29,
     "metadata": {},
     "output_type": "execute_result"
    }
   ],
   "source": [
    "X = [[stoi[o1] for o1 in o] for o in tok]; X"
   ]
  },
  {
   "cell_type": "code",
   "execution_count": 30,
   "metadata": {},
   "outputs": [
    {
     "data": {
      "text/plain": [
       "(400,)"
      ]
     },
     "execution_count": 30,
     "metadata": {},
     "output_type": "execute_result"
    }
   ],
   "source": [
    "m = learner.model\n",
    "\n",
    "# Set batch size to 1\n",
    "#m[0].bs=1\n",
    "# Turn off dropout\n",
    "#m.eval()\n",
    "# Reset hidden state\n",
    "#m.reset()\n",
    "\n",
    "kk0=m[0](V(T([X[0]]))) #first sentence in X - sentence level encoding....400 dim vecs\n",
    "kk1=m[0](V(T([X[1]]))) #second sentence in X - sentence level encoding....400 dim vecs\n",
    "kk2=m[0](V(T([X[2]]))) #third sentence in X - sentence level encoding....400 dim vecs\n",
    "\n",
    "\n",
    "kk0=to_np(kk0)\n",
    "kk1=to_np(kk1)\n",
    "kk2=to_np(kk2)\n",
    "\n",
    "\n",
    "kk0 = (kk0[0][2][0][-1]) # 1st sentence encoding 400 dims. -1 is the last element that's supposed to have the final encoded state\n",
    "kk1 = (kk1[0][2][0][-1]) # 2nd sentence encoding 400 dims\n",
    "kk2 = (kk2[0][2][0][-1]) # 3rd sentence encoding 400 dims\n",
    "\n",
    "\n",
    "kk1.shape"
   ]
  },
  {
   "cell_type": "code",
   "execution_count": 31,
   "metadata": {},
   "outputs": [
    {
     "data": {
      "text/plain": [
       "['i like apples and oranges',\n",
       " 'i hate all fruits especially apples and oranges',\n",
       " 'i am going to buy some apples and oranges']"
      ]
     },
     "execution_count": 31,
     "metadata": {},
     "output_type": "execute_result"
    }
   ],
   "source": [
    "x_inp"
   ]
  },
  {
   "cell_type": "code",
   "execution_count": 32,
   "metadata": {},
   "outputs": [
    {
     "data": {
      "text/plain": [
       "(0.43747785687446594, 0.8603231906890869, 0.4448050260543823)"
      ]
     },
     "execution_count": 32,
     "metadata": {},
     "output_type": "execute_result"
    }
   ],
   "source": [
    "cos_sim(kk0,kk1), cos_sim(kk1,kk2), cos_sim(kk0,kk2)"
   ]
  },
  {
   "cell_type": "code",
   "execution_count": 33,
   "metadata": {},
   "outputs": [
    {
     "data": {
      "text/plain": [
       "0.7238263"
      ]
     },
     "execution_count": 33,
     "metadata": {},
     "output_type": "execute_result"
    }
   ],
   "source": [
    "np.inner(kk0,kk1)"
   ]
  },
  {
   "cell_type": "code",
   "execution_count": 34,
   "metadata": {},
   "outputs": [
    {
     "data": {
      "text/plain": [
       "1.9672345"
      ]
     },
     "execution_count": 34,
     "metadata": {},
     "output_type": "execute_result"
    }
   ],
   "source": [
    "np.inner(kk1,kk2)"
   ]
  },
  {
   "cell_type": "code",
   "execution_count": 35,
   "metadata": {},
   "outputs": [
    {
     "data": {
      "text/plain": [
       "0.62568533"
      ]
     },
     "execution_count": 35,
     "metadata": {},
     "output_type": "execute_result"
    }
   ],
   "source": [
    "np.inner(kk0,kk2)"
   ]
  },
  {
   "cell_type": "code",
   "execution_count": null,
   "metadata": {},
   "outputs": [],
   "source": []
  },
  {
   "cell_type": "markdown",
   "metadata": {},
   "source": [
    "### Round 3 - more complex!"
   ]
  },
  {
   "cell_type": "code",
   "execution_count": 36,
   "metadata": {},
   "outputs": [],
   "source": [
    "x_inp = [\"let's talk about fruits for a second. Apples are nice. Oranges too. I kinda like them.\",\n",
    "         \"i compared the prices of apples and oranges at walmart and kroger stores\",\n",
    "         \"oh you wanna talk about apples. sure. i am not sure if i have said this before but i do like them and oranges.\"]"
   ]
  },
  {
   "cell_type": "code",
   "execution_count": 37,
   "metadata": {},
   "outputs": [],
   "source": [
    "tok = Tokenizer().proc_all_mp(partition_by_cores(x_inp))"
   ]
  },
  {
   "cell_type": "code",
   "execution_count": 38,
   "metadata": {},
   "outputs": [
    {
     "data": {
      "text/plain": [
       "[['let',\n",
       "  \"'s\",\n",
       "  'talk',\n",
       "  'about',\n",
       "  'fruits',\n",
       "  'for',\n",
       "  'a',\n",
       "  'second',\n",
       "  '.',\n",
       "  'apples',\n",
       "  'are',\n",
       "  'nice',\n",
       "  '.',\n",
       "  'oranges',\n",
       "  'too',\n",
       "  '.',\n",
       "  'i',\n",
       "  'kinda',\n",
       "  'like',\n",
       "  'them',\n",
       "  '.'],\n",
       " ['i',\n",
       "  'compared',\n",
       "  'the',\n",
       "  'prices',\n",
       "  'of',\n",
       "  'apples',\n",
       "  'and',\n",
       "  'oranges',\n",
       "  'at',\n",
       "  'walmart',\n",
       "  'and',\n",
       "  'kroger',\n",
       "  'stores'],\n",
       " ['oh',\n",
       "  'you',\n",
       "  'wanna',\n",
       "  'talk',\n",
       "  'about',\n",
       "  'apples',\n",
       "  '.',\n",
       "  'sure',\n",
       "  '.',\n",
       "  'i',\n",
       "  'am',\n",
       "  'not',\n",
       "  'sure',\n",
       "  'if',\n",
       "  'i',\n",
       "  'have',\n",
       "  'said',\n",
       "  'this',\n",
       "  'before',\n",
       "  'but',\n",
       "  'i',\n",
       "  'do',\n",
       "  'like',\n",
       "  'them',\n",
       "  'and',\n",
       "  'oranges',\n",
       "  '.']]"
      ]
     },
     "execution_count": 38,
     "metadata": {},
     "output_type": "execute_result"
    }
   ],
   "source": [
    "tok"
   ]
  },
  {
   "cell_type": "code",
   "execution_count": 39,
   "metadata": {},
   "outputs": [
    {
     "data": {
      "text/plain": [
       "[[302,\n",
       "  16,\n",
       "  713,\n",
       "  58,\n",
       "  22144,\n",
       "  22,\n",
       "  6,\n",
       "  349,\n",
       "  3,\n",
       "  13154,\n",
       "  33,\n",
       "  358,\n",
       "  3,\n",
       "  20864,\n",
       "  116,\n",
       "  3,\n",
       "  12,\n",
       "  2040,\n",
       "  52,\n",
       "  110,\n",
       "  3],\n",
       " [12, 1128, 2, 12023, 7, 13154, 5, 20864, 44, 17680, 5, 0, 5400],\n",
       " [452,\n",
       "  26,\n",
       "  2890,\n",
       "  713,\n",
       "  58,\n",
       "  13154,\n",
       "  3,\n",
       "  273,\n",
       "  3,\n",
       "  12,\n",
       "  261,\n",
       "  32,\n",
       "  273,\n",
       "  62,\n",
       "  12,\n",
       "  36,\n",
       "  326,\n",
       "  13,\n",
       "  176,\n",
       "  24,\n",
       "  12,\n",
       "  57,\n",
       "  52,\n",
       "  110,\n",
       "  5,\n",
       "  20864,\n",
       "  3]]"
      ]
     },
     "execution_count": 39,
     "metadata": {},
     "output_type": "execute_result"
    }
   ],
   "source": [
    "X = [[stoi[o1] for o1 in o] for o in tok]; X"
   ]
  },
  {
   "cell_type": "code",
   "execution_count": 40,
   "metadata": {},
   "outputs": [
    {
     "data": {
      "text/plain": [
       "(400,)"
      ]
     },
     "execution_count": 40,
     "metadata": {},
     "output_type": "execute_result"
    }
   ],
   "source": [
    "m = learner.model\n",
    "\n",
    "# Set batch size to 1\n",
    "#m[0].bs=1\n",
    "# Turn off dropout\n",
    "#m.eval()\n",
    "# Reset hidden state\n",
    "#m.reset()\n",
    "\n",
    "kk0=m[0](V(T([X[0]]))) #first sentence in X - sentence level encoding....400 dim vecs\n",
    "kk1=m[0](V(T([X[1]]))) #second sentence in X - sentence level encoding....400 dim vecs\n",
    "kk2=m[0](V(T([X[2]]))) #third sentence in X - sentence level encoding....400 dim vecs\n",
    "\n",
    "\n",
    "kk0=to_np(kk0)\n",
    "kk1=to_np(kk1)\n",
    "kk2=to_np(kk2)\n",
    "\n",
    "\n",
    "kk0 = (kk0[0][2][0][-1]) # 1st sentence encoding 400 dims. -1 is the last element that's supposed to have the final encoded state\n",
    "kk1 = (kk1[0][2][0][-1]) # 2nd sentence encoding 400 dims\n",
    "kk2 = (kk2[0][2][0][-1]) # 3rd sentence encoding 400 dims\n",
    "\n",
    "\n",
    "kk1.shape"
   ]
  },
  {
   "cell_type": "code",
   "execution_count": 41,
   "metadata": {},
   "outputs": [
    {
     "data": {
      "text/plain": [
       "[\"let's talk about fruits for a second. Apples are nice. Oranges too. I kinda like them.\",\n",
       " 'i compared the prices of apples and oranges at walmart and kroger stores',\n",
       " 'oh you wanna talk about apples. sure. i am not sure if i have said this before but i do like them and oranges.']"
      ]
     },
     "execution_count": 41,
     "metadata": {},
     "output_type": "execute_result"
    }
   ],
   "source": [
    "x_inp"
   ]
  },
  {
   "cell_type": "code",
   "execution_count": 42,
   "metadata": {},
   "outputs": [
    {
     "data": {
      "text/plain": [
       "(0.23472610116004944, 0.2449840009212494, 0.9800421595573425)"
      ]
     },
     "execution_count": 42,
     "metadata": {},
     "output_type": "execute_result"
    }
   ],
   "source": [
    "cos_sim(kk0,kk1), cos_sim(kk1,kk2), cos_sim(kk0,kk2)"
   ]
  },
  {
   "cell_type": "code",
   "execution_count": 43,
   "metadata": {},
   "outputs": [
    {
     "data": {
      "text/plain": [
       "0.47004822"
      ]
     },
     "execution_count": 43,
     "metadata": {},
     "output_type": "execute_result"
    }
   ],
   "source": [
    "np.inner(kk0,kk1)"
   ]
  },
  {
   "cell_type": "code",
   "execution_count": 44,
   "metadata": {},
   "outputs": [
    {
     "data": {
      "text/plain": [
       "0.45767003"
      ]
     },
     "execution_count": 44,
     "metadata": {},
     "output_type": "execute_result"
    }
   ],
   "source": [
    "np.inner(kk1,kk2)"
   ]
  },
  {
   "cell_type": "code",
   "execution_count": 45,
   "metadata": {},
   "outputs": [
    {
     "data": {
      "text/plain": [
       "1.5888402"
      ]
     },
     "execution_count": 45,
     "metadata": {},
     "output_type": "execute_result"
    }
   ],
   "source": [
    "np.inner(kk0,kk2)"
   ]
  },
  {
   "cell_type": "markdown",
   "metadata": {},
   "source": [
    "### Round 4 - really complex"
   ]
  },
  {
   "cell_type": "code",
   "execution_count": 46,
   "metadata": {},
   "outputs": [],
   "source": [
    "x_inp = [\"there is no comparison here. you are comparing apples to oranges\",\n",
    "         \"i compared the prices of apples and oranges at walmart and kroger stores\",\n",
    "         \"i don't see anything common between these two categories.\"]"
   ]
  },
  {
   "cell_type": "code",
   "execution_count": 47,
   "metadata": {},
   "outputs": [],
   "source": [
    "tok = Tokenizer().proc_all_mp(partition_by_cores(x_inp))"
   ]
  },
  {
   "cell_type": "code",
   "execution_count": 48,
   "metadata": {},
   "outputs": [
    {
     "data": {
      "text/plain": [
       "[['there',\n",
       "  'is',\n",
       "  'no',\n",
       "  'comparison',\n",
       "  'here',\n",
       "  '.',\n",
       "  'you',\n",
       "  'are',\n",
       "  'comparing',\n",
       "  'apples',\n",
       "  'to',\n",
       "  'oranges'],\n",
       " ['i',\n",
       "  'compared',\n",
       "  'the',\n",
       "  'prices',\n",
       "  'of',\n",
       "  'apples',\n",
       "  'and',\n",
       "  'oranges',\n",
       "  'at',\n",
       "  'walmart',\n",
       "  'and',\n",
       "  'kroger',\n",
       "  'stores'],\n",
       " ['i',\n",
       "  'do',\n",
       "  \"n't\",\n",
       "  'see',\n",
       "  'anything',\n",
       "  'common',\n",
       "  'between',\n",
       "  'these',\n",
       "  'two',\n",
       "  'categories',\n",
       "  '.']]"
      ]
     },
     "execution_count": 48,
     "metadata": {},
     "output_type": "execute_result"
    }
   ],
   "source": [
    "tok"
   ]
  },
  {
   "cell_type": "code",
   "execution_count": 49,
   "metadata": {},
   "outputs": [
    {
     "data": {
      "text/plain": [
       "[[53, 9, 73, 1884, 148, 3, 26, 33, 4324, 13154, 8, 20864],\n",
       " [12, 1128, 2, 12023, 7, 13154, 5, 20864, 44, 17680, 5, 0, 5400],\n",
       " [12, 57, 29, 83, 255, 1116, 222, 150, 126, 9281, 3]]"
      ]
     },
     "execution_count": 49,
     "metadata": {},
     "output_type": "execute_result"
    }
   ],
   "source": [
    "X = [[stoi[o1] for o1 in o] for o in tok]; X"
   ]
  },
  {
   "cell_type": "code",
   "execution_count": 50,
   "metadata": {},
   "outputs": [
    {
     "data": {
      "text/plain": [
       "(400,)"
      ]
     },
     "execution_count": 50,
     "metadata": {},
     "output_type": "execute_result"
    }
   ],
   "source": [
    "m = learner.model\n",
    "\n",
    "# Set batch size to 1\n",
    "#m[0].bs=1\n",
    "# Turn off dropout\n",
    "#m.eval()\n",
    "# Reset hidden state\n",
    "#m.reset()\n",
    "\n",
    "kk0=m[0](V(T([X[0]]))) #first sentence in X - sentence level encoding....400 dim vecs\n",
    "kk1=m[0](V(T([X[1]]))) #second sentence in X - sentence level encoding....400 dim vecs\n",
    "kk2=m[0](V(T([X[2]]))) #third sentence in X - sentence level encoding....400 dim vecs\n",
    "\n",
    "\n",
    "kk0=to_np(kk0)\n",
    "kk1=to_np(kk1)\n",
    "kk2=to_np(kk2)\n",
    "\n",
    "\n",
    "kk0 = (kk0[0][2][0][-1]) # 1st sentence encoding 400 dims. -1 is the last element that's supposed to have the final encoded state\n",
    "kk1 = (kk1[0][2][0][-1]) # 2nd sentence encoding 400 dims\n",
    "kk2 = (kk2[0][2][0][-1]) # 3rd sentence encoding 400 dims\n",
    "\n",
    "\n",
    "kk1.shape"
   ]
  },
  {
   "cell_type": "code",
   "execution_count": 51,
   "metadata": {},
   "outputs": [
    {
     "data": {
      "text/plain": [
       "['there is no comparison here. you are comparing apples to oranges',\n",
       " 'i compared the prices of apples and oranges at walmart and kroger stores',\n",
       " \"i don't see anything common between these two categories.\"]"
      ]
     },
     "execution_count": 51,
     "metadata": {},
     "output_type": "execute_result"
    }
   ],
   "source": [
    "x_inp"
   ]
  },
  {
   "cell_type": "code",
   "execution_count": 52,
   "metadata": {},
   "outputs": [
    {
     "data": {
      "text/plain": [
       "(0.47336602210998535, 0.24636584520339966, 0.11633665859699249)"
      ]
     },
     "execution_count": 52,
     "metadata": {},
     "output_type": "execute_result"
    }
   ],
   "source": [
    "cos_sim(kk0,kk1), cos_sim(kk1,kk2), cos_sim(kk0,kk2)"
   ]
  },
  {
   "cell_type": "code",
   "execution_count": 53,
   "metadata": {},
   "outputs": [
    {
     "data": {
      "text/plain": [
       "1.4132059"
      ]
     },
     "execution_count": 53,
     "metadata": {},
     "output_type": "execute_result"
    }
   ],
   "source": [
    "np.inner(kk0,kk1)"
   ]
  },
  {
   "cell_type": "code",
   "execution_count": 54,
   "metadata": {},
   "outputs": [
    {
     "data": {
      "text/plain": [
       "0.46766788"
      ]
     },
     "execution_count": 54,
     "metadata": {},
     "output_type": "execute_result"
    }
   ],
   "source": [
    "np.inner(kk1,kk2)"
   ]
  },
  {
   "cell_type": "code",
   "execution_count": 55,
   "metadata": {},
   "outputs": [
    {
     "data": {
      "text/plain": [
       "0.23948124"
      ]
     },
     "execution_count": 55,
     "metadata": {},
     "output_type": "execute_result"
    }
   ],
   "source": [
    "np.inner(kk0,kk2)"
   ]
  },
  {
   "cell_type": "markdown",
   "metadata": {},
   "source": [
    "# Quora dataset"
   ]
  },
  {
   "cell_type": "code",
   "execution_count": 56,
   "metadata": {},
   "outputs": [
    {
     "name": "stdout",
     "output_type": "stream",
     "text": [
      "Question pairs: 404290\n"
     ]
    }
   ],
   "source": [
    "QUESTION_PAIRS_FILE = '/home/a8an18/.keras/datasets/quora_duplicate_questions.tsv'\n",
    "#print(\"Processing\", QUESTION_PAIRS_FILE)\n",
    "\n",
    "question1 = []\n",
    "question2 = []\n",
    "is_duplicate = []\n",
    "with open(QUESTION_PAIRS_FILE, encoding='utf-8') as csvfile:\n",
    "    reader = csv.DictReader(csvfile, delimiter='\\t')\n",
    "    for row in reader:\n",
    "        question1.append(row['question1'])\n",
    "        question2.append(row['question2'])\n",
    "        is_duplicate.append(int(row['is_duplicate']))\n",
    "\n",
    "print('Question pairs: %d' % len(question1))"
   ]
  },
  {
   "cell_type": "code",
   "execution_count": 57,
   "metadata": {},
   "outputs": [
    {
     "data": {
      "text/plain": [
       "['What is the step by step guide to invest in share market in india?',\n",
       " 'What is the story of Kohinoor (Koh-i-Noor) Diamond?',\n",
       " 'How can I increase the speed of my internet connection while using a VPN?',\n",
       " 'Why am I mentally very lonely? How can I solve it?',\n",
       " 'Which one dissolve in water quikly sugar, salt, methane and carbon di oxide?',\n",
       " 'Astrology: I am a Capricorn Sun Cap moon and cap rising...what does that say about me?',\n",
       " 'Should I buy tiago?',\n",
       " 'How can I be a good geologist?',\n",
       " 'When do you use シ instead of し?',\n",
       " 'Motorola (company): Can I hack my Charter Motorolla DCX3400?']"
      ]
     },
     "execution_count": 57,
     "metadata": {},
     "output_type": "execute_result"
    }
   ],
   "source": [
    "question1[:10]"
   ]
  },
  {
   "cell_type": "code",
   "execution_count": 58,
   "metadata": {},
   "outputs": [
    {
     "data": {
      "text/plain": [
       "['What is the step by step guide to invest in share market?',\n",
       " 'What would happen if the Indian government stole the Kohinoor (Koh-i-Noor) diamond back?',\n",
       " 'How can Internet speed be increased by hacking through DNS?',\n",
       " 'Find the remainder when [math]23^{24}[/math] is divided by 24,23?',\n",
       " 'Which fish would survive in salt water?',\n",
       " \"I'm a triple Capricorn (Sun, Moon and ascendant in Capricorn) What does this say about me?\",\n",
       " 'What keeps childern active and far from phone and video games?',\n",
       " 'What should I do to be a great geologist?',\n",
       " 'When do you use \"&\" instead of \"and\"?',\n",
       " 'How do I hack Motorola DCX3400 for free internet?']"
      ]
     },
     "execution_count": 58,
     "metadata": {},
     "output_type": "execute_result"
    }
   ],
   "source": [
    "question2[:10]"
   ]
  },
  {
   "cell_type": "code",
   "execution_count": 59,
   "metadata": {},
   "outputs": [
    {
     "data": {
      "text/plain": [
       "[0, 0, 0, 0, 0, 1, 0, 1, 0, 0]"
      ]
     },
     "execution_count": 59,
     "metadata": {},
     "output_type": "execute_result"
    }
   ],
   "source": [
    "is_duplicate[:10]"
   ]
  },
  {
   "cell_type": "code",
   "execution_count": 60,
   "metadata": {},
   "outputs": [],
   "source": [
    "chunksize=24000"
   ]
  },
  {
   "cell_type": "code",
   "execution_count": 61,
   "metadata": {},
   "outputs": [],
   "source": [
    "tok_q1 = Tokenizer.proc_all_mp(partition_by_cores(question1))"
   ]
  },
  {
   "cell_type": "code",
   "execution_count": 62,
   "metadata": {},
   "outputs": [],
   "source": [
    "tok_q2 = Tokenizer.proc_all_mp(partition_by_cores(question2))"
   ]
  },
  {
   "cell_type": "code",
   "execution_count": 63,
   "metadata": {},
   "outputs": [
    {
     "data": {
      "text/plain": [
       "[['what',\n",
       "  'is',\n",
       "  'the',\n",
       "  'step',\n",
       "  'by',\n",
       "  'step',\n",
       "  'guide',\n",
       "  'to',\n",
       "  'invest',\n",
       "  'in',\n",
       "  'share',\n",
       "  'market',\n",
       "  '?'],\n",
       " ['what',\n",
       "  'would',\n",
       "  'happen',\n",
       "  'if',\n",
       "  'the',\n",
       "  'indian',\n",
       "  'government',\n",
       "  'stole',\n",
       "  'the',\n",
       "  'kohinoor',\n",
       "  '(',\n",
       "  'koh',\n",
       "  '-',\n",
       "  'i',\n",
       "  '-',\n",
       "  'noor',\n",
       "  ')',\n",
       "  'diamond',\n",
       "  'back',\n",
       "  '?'],\n",
       " ['how',\n",
       "  'can',\n",
       "  'internet',\n",
       "  'speed',\n",
       "  'be',\n",
       "  'increased',\n",
       "  'by',\n",
       "  'hacking',\n",
       "  'through',\n",
       "  't_up',\n",
       "  'dns',\n",
       "  '?'],\n",
       " ['find',\n",
       "  'the',\n",
       "  'remainder',\n",
       "  'when',\n",
       "  '[',\n",
       "  'math]23^{24',\n",
       "  '}',\n",
       "  '[',\n",
       "  '/',\n",
       "  'math',\n",
       "  ']',\n",
       "  'is',\n",
       "  'divided',\n",
       "  'by',\n",
       "  '24,23',\n",
       "  '?'],\n",
       " ['which', 'fish', 'would', 'survive', 'in', 'salt', 'water', '?'],\n",
       " ['i',\n",
       "  \"'m\",\n",
       "  'a',\n",
       "  'triple',\n",
       "  'capricorn',\n",
       "  '(',\n",
       "  'sun',\n",
       "  ',',\n",
       "  'moon',\n",
       "  'and',\n",
       "  'ascendant',\n",
       "  'in',\n",
       "  'capricorn',\n",
       "  ')',\n",
       "  'what',\n",
       "  'does',\n",
       "  'this',\n",
       "  'say',\n",
       "  'about',\n",
       "  'me',\n",
       "  '?'],\n",
       " ['what',\n",
       "  'keeps',\n",
       "  'childern',\n",
       "  'active',\n",
       "  'and',\n",
       "  'far',\n",
       "  'from',\n",
       "  'phone',\n",
       "  'and',\n",
       "  'video',\n",
       "  'games',\n",
       "  '?'],\n",
       " ['what', 'should', 'i', 'do', 'to', 'be', 'a', 'great', 'geologist', '?'],\n",
       " ['when',\n",
       "  'do',\n",
       "  'you',\n",
       "  'use',\n",
       "  '\"',\n",
       "  '&',\n",
       "  '\"',\n",
       "  'instead',\n",
       "  'of',\n",
       "  '\"',\n",
       "  'and',\n",
       "  '\"',\n",
       "  '?'],\n",
       " ['how',\n",
       "  'do',\n",
       "  'i',\n",
       "  'hack',\n",
       "  'motorola',\n",
       "  't_up',\n",
       "  'dcx3400',\n",
       "  'for',\n",
       "  'free',\n",
       "  'internet',\n",
       "  '?']]"
      ]
     },
     "execution_count": 63,
     "metadata": {},
     "output_type": "execute_result"
    }
   ],
   "source": [
    "tok_q2[:10]"
   ]
  },
  {
   "cell_type": "code",
   "execution_count": 64,
   "metadata": {},
   "outputs": [],
   "source": [
    "ques = tok_q1 + tok_q2"
   ]
  },
  {
   "cell_type": "code",
   "execution_count": 65,
   "metadata": {},
   "outputs": [],
   "source": [
    "freq = Counter(p for o in ques for p in o)"
   ]
  },
  {
   "cell_type": "code",
   "execution_count": 66,
   "metadata": {},
   "outputs": [
    {
     "data": {
      "text/plain": [
       "[('?', 852054),\n",
       " ('the', 377634),\n",
       " ('what', 324433),\n",
       " ('is', 271122),\n",
       " ('i', 223363),\n",
       " ('how', 220656),\n",
       " ('a', 211277),\n",
       " ('to', 205717),\n",
       " ('in', 196940),\n",
       " ('do', 169773),\n",
       " ('of', 159862),\n",
       " ('are', 146580),\n",
       " ('and', 133925),\n",
       " ('can', 114550),\n",
       " ('for', 104498),\n",
       " (',', 98321),\n",
       " ('t_up', 97217),\n",
       " ('you', 93102),\n",
       " ('why', 84030),\n",
       " ('it', 71057),\n",
       " ('my', 70930),\n",
       " ('best', 70596),\n",
       " ('on', 60715),\n",
       " ('does', 59502),\n",
       " ('.', 49499)]"
      ]
     },
     "execution_count": 66,
     "metadata": {},
     "output_type": "execute_result"
    }
   ],
   "source": [
    "freq.most_common(25)"
   ]
  },
  {
   "cell_type": "code",
   "execution_count": 67,
   "metadata": {},
   "outputs": [],
   "source": [
    "max_vocab = 60000\n",
    "min_freq = 2"
   ]
  },
  {
   "cell_type": "code",
   "execution_count": 68,
   "metadata": {},
   "outputs": [],
   "source": [
    "itos = [o for o,c in freq.most_common(max_vocab) if c>min_freq]\n",
    "itos.insert(0, '_pad_')\n",
    "itos.insert(0, '_unk_')"
   ]
  },
  {
   "cell_type": "code",
   "execution_count": 69,
   "metadata": {},
   "outputs": [
    {
     "data": {
      "text/plain": [
       "['_unk_', '_pad_', '?', 'the', 'what', 'is', 'i', 'how', 'a', 'to']"
      ]
     },
     "execution_count": 69,
     "metadata": {},
     "output_type": "execute_result"
    }
   ],
   "source": [
    "itos[:10]"
   ]
  },
  {
   "cell_type": "code",
   "execution_count": 70,
   "metadata": {},
   "outputs": [
    {
     "data": {
      "text/plain": [
       "41665"
      ]
     },
     "execution_count": 70,
     "metadata": {},
     "output_type": "execute_result"
    }
   ],
   "source": [
    "len(itos)"
   ]
  },
  {
   "cell_type": "code",
   "execution_count": 71,
   "metadata": {},
   "outputs": [
    {
     "data": {
      "text/plain": [
       "['_unk_', '_pad_', '?', 'the', 'what', 'is', 'i', 'how', 'a', 'to']"
      ]
     },
     "execution_count": 71,
     "metadata": {},
     "output_type": "execute_result"
    }
   ],
   "source": [
    "stoi = collections.defaultdict(lambda:0, {v:k for k,v in enumerate(itos)})\n",
    "list(stoi)[:10]"
   ]
  },
  {
   "cell_type": "code",
   "execution_count": 72,
   "metadata": {},
   "outputs": [],
   "source": [
    "q1 = np.array([[stoi[o] for o in p] for p in tok_q1])\n",
    "q2 = np.array([[stoi[o] for o in p] for p in tok_q2])"
   ]
  },
  {
   "cell_type": "code",
   "execution_count": 73,
   "metadata": {},
   "outputs": [
    {
     "data": {
      "text/plain": [
       "((404290,), (404290,))"
      ]
     },
     "execution_count": 73,
     "metadata": {},
     "output_type": "execute_result"
    }
   ],
   "source": [
    "q1.shape,q2.shape"
   ]
  },
  {
   "cell_type": "code",
   "execution_count": 74,
   "metadata": {},
   "outputs": [
    {
     "data": {
      "text/plain": [
       "'[4, 5, 3, 1254, 69, 1254, 2576, 9, 589, 10, 773, 390, 10, 43, 2]'"
      ]
     },
     "execution_count": 74,
     "metadata": {},
     "output_type": "execute_result"
    }
   ],
   "source": [
    "str(q1[0])"
   ]
  },
  {
   "cell_type": "code",
   "execution_count": 75,
   "metadata": {},
   "outputs": [
    {
     "data": {
      "text/plain": [
       "array(['what', 'is', 'the', 'step', 'by', 'step', 'guide', 'to', 'invest', 'in', 'share', 'market', 'in',\n",
       "       'india', '?'], dtype='<U65')"
      ]
     },
     "execution_count": 75,
     "metadata": {},
     "output_type": "execute_result"
    }
   ],
   "source": [
    "itos_arr = np.array(itos)\n",
    "itos_arr[q1[0]]"
   ]
  },
  {
   "cell_type": "code",
   "execution_count": 76,
   "metadata": {},
   "outputs": [],
   "source": [
    "np.save('q1.npy', q1)\n",
    "np.save('q2.npy', q2)\n",
    "pickle.dump(itos, open('itos.pkl', 'wb'))"
   ]
  },
  {
   "cell_type": "code",
   "execution_count": 77,
   "metadata": {},
   "outputs": [
    {
     "data": {
      "text/plain": [
       "(41665, 404290)"
      ]
     },
     "execution_count": 77,
     "metadata": {},
     "output_type": "execute_result"
    }
   ],
   "source": [
    "vs=len(itos) #vocab size\n",
    "vs,len(q1)"
   ]
  },
  {
   "cell_type": "code",
   "execution_count": 78,
   "metadata": {},
   "outputs": [],
   "source": [
    "itos2 = pickle.load((PRE_PATH/'itos_wt103.pkl').open('rb'))\n",
    "stoi2 = collections.defaultdict(lambda:-1, {v:k for k,v in enumerate(itos2)})"
   ]
  },
  {
   "cell_type": "code",
   "execution_count": 79,
   "metadata": {},
   "outputs": [],
   "source": [
    "wgts = torch.load(PRE_LM_PATH, map_location=lambda storage, loc: storage)"
   ]
  },
  {
   "cell_type": "code",
   "execution_count": 80,
   "metadata": {},
   "outputs": [
    {
     "data": {
      "text/plain": [
       "odict_keys(['0.encoder.weight', '0.encoder_with_dropout.embed.weight', '0.rnns.0.module.weight_ih_l0', '0.rnns.0.module.bias_ih_l0', '0.rnns.0.module.bias_hh_l0', '0.rnns.0.module.weight_hh_l0_raw', '0.rnns.1.module.weight_ih_l0', '0.rnns.1.module.bias_ih_l0', '0.rnns.1.module.bias_hh_l0', '0.rnns.1.module.weight_hh_l0_raw', '0.rnns.2.module.weight_ih_l0', '0.rnns.2.module.bias_ih_l0', '0.rnns.2.module.bias_hh_l0', '0.rnns.2.module.weight_hh_l0_raw', '1.decoder.weight'])"
      ]
     },
     "execution_count": 80,
     "metadata": {},
     "output_type": "execute_result"
    }
   ],
   "source": [
    "wgts.keys()"
   ]
  },
  {
   "cell_type": "code",
   "execution_count": 81,
   "metadata": {},
   "outputs": [
    {
     "data": {
      "text/plain": [
       "((400,),\n",
       " array([-0.0183 , -0.13826,  0.01438, -0.01285,  0.00407,  0.01944,  0.01149, -0.13282, -0.02295, -0.01722],\n",
       "       dtype=float32))"
      ]
     },
     "execution_count": 81,
     "metadata": {},
     "output_type": "execute_result"
    }
   ],
   "source": [
    "enc_wgts = to_np(wgts['0.encoder.weight'])\n",
    "row_m = enc_wgts.mean(0) \n",
    "row_m.shape, row_m[:10]"
   ]
  },
  {
   "cell_type": "code",
   "execution_count": 82,
   "metadata": {},
   "outputs": [],
   "source": [
    "# Create embedding matrix and take token weights from wikitext103 if available\n",
    "# Use 60002 instead of 41665 for future embedding matrix where backbone encoder needs to be loaded.\n",
    "# not needed for simple model\n",
    "new_w = np.zeros((60002, em_sz), dtype=np.float32)\n",
    "for i,w in enumerate(itos):\n",
    "    r = stoi2[w]\n",
    "    new_w[i] = enc_wgts[r] if r>=0 else row_m"
   ]
  },
  {
   "cell_type": "code",
   "execution_count": 83,
   "metadata": {},
   "outputs": [
    {
     "data": {
      "text/plain": [
       "(60002, 400)"
      ]
     },
     "execution_count": 83,
     "metadata": {},
     "output_type": "execute_result"
    }
   ],
   "source": [
    "new_w.shape"
   ]
  },
  {
   "cell_type": "code",
   "execution_count": 84,
   "metadata": {},
   "outputs": [],
   "source": [
    "wgts['0.encoder.weight'] = T(new_w)\n",
    "wgts['0.encoder_with_dropout.embed.weight'] = T(np.copy(new_w))\n",
    "wgts['1.decoder.weight'] = T(np.copy(new_w))"
   ]
  },
  {
   "cell_type": "code",
   "execution_count": 85,
   "metadata": {},
   "outputs": [
    {
     "data": {
      "text/plain": [
       "torch.Size([60002, 400])"
      ]
     },
     "execution_count": 85,
     "metadata": {},
     "output_type": "execute_result"
    }
   ],
   "source": [
    "wgts['1.decoder.weight'].shape"
   ]
  },
  {
   "cell_type": "code",
   "execution_count": 86,
   "metadata": {},
   "outputs": [],
   "source": [
    "trn_keep = np.random.rand(len(q1))>0.1"
   ]
  },
  {
   "cell_type": "code",
   "execution_count": 87,
   "metadata": {},
   "outputs": [],
   "source": [
    "q1_trn = q1[trn_keep]\n",
    "q2_trn = q2[trn_keep]\n",
    "lbl_trn = np.asarray(is_duplicate)[trn_keep]"
   ]
  },
  {
   "cell_type": "code",
   "execution_count": 88,
   "metadata": {},
   "outputs": [
    {
     "data": {
      "text/plain": [
       "array([[0],\n",
       "       [0],\n",
       "       [0],\n",
       "       ...,\n",
       "       [0],\n",
       "       [0],\n",
       "       [0]])"
      ]
     },
     "execution_count": 88,
     "metadata": {},
     "output_type": "execute_result"
    }
   ],
   "source": [
    "np.asarray([lbl_trn]).T"
   ]
  },
  {
   "cell_type": "code",
   "execution_count": 89,
   "metadata": {},
   "outputs": [
    {
     "data": {
      "text/plain": [
       "\n",
       " 0\n",
       "[torch.FloatTensor of size 1]"
      ]
     },
     "execution_count": 89,
     "metadata": {},
     "output_type": "execute_result"
    }
   ],
   "source": [
    "(T(np.array([lbl_trn[101]]).T)).float()"
   ]
  },
  {
   "cell_type": "code",
   "execution_count": 90,
   "metadata": {},
   "outputs": [
    {
     "data": {
      "text/plain": [
       "(363951,)"
      ]
     },
     "execution_count": 90,
     "metadata": {},
     "output_type": "execute_result"
    }
   ],
   "source": [
    "q1_trn.shape"
   ]
  },
  {
   "cell_type": "code",
   "execution_count": 91,
   "metadata": {},
   "outputs": [],
   "source": [
    "q1_val = q1[~trn_keep]\n",
    "q2_val = q2[~trn_keep]\n",
    "lbl_val = np.asarray(is_duplicate)[~trn_keep]"
   ]
  },
  {
   "cell_type": "code",
   "execution_count": 92,
   "metadata": {},
   "outputs": [
    {
     "data": {
      "text/plain": [
       "(40339, 1)"
      ]
     },
     "execution_count": 92,
     "metadata": {},
     "output_type": "execute_result"
    }
   ],
   "source": [
    "lbl_val = np.asarray([lbl_val]).T\n",
    "lbl_val.shape"
   ]
  },
  {
   "cell_type": "code",
   "execution_count": 93,
   "metadata": {},
   "outputs": [
    {
     "data": {
      "text/plain": [
       "(363951, 1)"
      ]
     },
     "execution_count": 93,
     "metadata": {},
     "output_type": "execute_result"
    }
   ],
   "source": [
    "lbl_trn = np.asarray([lbl_trn]).T\n",
    "lbl_trn.shape"
   ]
  },
  {
   "cell_type": "code",
   "execution_count": 94,
   "metadata": {},
   "outputs": [
    {
     "data": {
      "text/plain": [
       "(1, 40339)"
      ]
     },
     "execution_count": 94,
     "metadata": {},
     "output_type": "execute_result"
    }
   ],
   "source": [
    "lbl_val = lbl_val.T\n",
    "lbl_val.shape"
   ]
  },
  {
   "cell_type": "code",
   "execution_count": 95,
   "metadata": {},
   "outputs": [
    {
     "data": {
      "text/plain": [
       "(1, 363951)"
      ]
     },
     "execution_count": 95,
     "metadata": {},
     "output_type": "execute_result"
    }
   ],
   "source": [
    "lbl_trn = lbl_trn.T\n",
    "lbl_trn.shape"
   ]
  },
  {
   "cell_type": "code",
   "execution_count": 96,
   "metadata": {},
   "outputs": [
    {
     "data": {
      "text/plain": [
       "(41665, 400)"
      ]
     },
     "execution_count": 96,
     "metadata": {},
     "output_type": "execute_result"
    }
   ],
   "source": [
    "vs,em_sz"
   ]
  },
  {
   "cell_type": "code",
   "execution_count": 97,
   "metadata": {},
   "outputs": [],
   "source": [
    "class PairDataset(Dataset):\n",
    "    def __init__(self, X, y): self.x1,self.x2,self.y = X[0],X[1],y\n",
    "    def __getitem__(self, idx): return A(self.x1[idx], self.x2[idx], (T(self.y[idx]).float()))\n",
    "    def __len__(self): return len(self.x1)"
   ]
  },
  {
   "cell_type": "code",
   "execution_count": 98,
   "metadata": {},
   "outputs": [],
   "source": [
    "trn_ds = PairDataset(X=[q1_trn,q2_trn],y=(lbl_trn).T)\n",
    "val_ds = PairDataset(X=[q1_val,q2_val],y=(lbl_val).T)"
   ]
  },
  {
   "cell_type": "code",
   "execution_count": 99,
   "metadata": {},
   "outputs": [
    {
     "data": {
      "text/plain": [
       "[array([   4,   52,    8,   96, 1159,  113,   16,  488,  507,  853,  420,  299,   24,   38, 3639,  527,    2]),\n",
       " array([   7,   44,    8,   96, 1159,  332,    3,  299, 6219,   10,  117,   27, 1112,    9,  225,   10,  117,\n",
       "           2]),\n",
       " array([1.], dtype=float32)]"
      ]
     },
     "execution_count": 99,
     "metadata": {},
     "output_type": "execute_result"
    }
   ],
   "source": [
    "trn_ds.__getitem__(15)"
   ]
  },
  {
   "cell_type": "code",
   "execution_count": 111,
   "metadata": {},
   "outputs": [],
   "source": [
    "# Unable to run with larger bs because of DataLoader transpose issue\n",
    "bs=15\n",
    "#bs=1"
   ]
  },
  {
   "cell_type": "code",
   "execution_count": 101,
   "metadata": {},
   "outputs": [],
   "source": [
    "??DataLoader"
   ]
  },
  {
   "cell_type": "code",
   "execution_count": 112,
   "metadata": {},
   "outputs": [],
   "source": [
    "trn_dl = DataLoader(trn_ds, bs, transpose=False, transpose_y=False, num_workers=1, \n",
    "                    pad_idx=1, pre_pad=False) #, sampler=trn_samp)\n",
    "val_dl = DataLoader(val_ds, bs, transpose=False, transpose_y=False, num_workers=1, \n",
    "                    pad_idx=1, pre_pad=False) #, sampler=val_samp)\n",
    "md = ModelData(PATH, trn_dl, val_dl)"
   ]
  },
  {
   "cell_type": "code",
   "execution_count": 113,
   "metadata": {},
   "outputs": [
    {
     "data": {
      "text/plain": [
       "[\n",
       " \n",
       " Columns 0 to 10 \n",
       "     30     89    913      9    436      8   1496   6446   2136   1141     10\n",
       "     20     11   3401  10382   3778      2      1      1      1      1      1\n",
       "      4     13     31     12      3    249    395    945    432     10      3\n",
       "      7     15      6    229     22    492     76   1677    547      2      1\n",
       "      4    133      3    328    350     12      3   1570    903     17     14\n",
       "      4      5      3     83     60      0     14  11686      2      1      1\n",
       "     28      5      3     23   1148    268    206   3908     18    848      2\n",
       "      4      5     41    447     12      3    359   7229     82  10718   8040\n",
       "      4      5      3     23   2440    173     16    618    369   3134      2\n",
       "    846    679     12    495     17  12677     82      7      5      3    283\n",
       "      4     13     31     12      3     23   1518    196     10    116      2\n",
       "      4    524      8  12678      2      1      1      1      1      1      1\n",
       "      4      5   4706  31016     10   2522      2      1      1      1      1\n",
       "      7     25   1795   2774     93      2      1      1      1      1      1\n",
       "     20     62   1100    104      8  13272      2      1      1      1      1\n",
       " \n",
       " Columns 11 to 21 \n",
       "     70    522     12     43     17      7     88     25     21    301     14\n",
       "      1      1      1      1      1      1      1      1      1      1      1\n",
       "    670     12   2840      2      1      1      1      1      1      1      1\n",
       "      1      1      1      1      1      1      1      1      1      1      1\n",
       "      7     11    385    350    179      9      3  13575   5268     10  12676\n",
       "      1      1      1      1      1      1      1      1      1      1      1\n",
       "      1      1      1      1      1      1      1      1      1      1      1\n",
       "     42    551    889      2      1      1      1      1      1      1      1\n",
       "      1      1      1      1      1      1      1      1      1      1      1\n",
       "     73     50     18  11894     17  13576      2      1      1      1      1\n",
       "      1      1      1      1      1      1      1      1      1      1      1\n",
       "      1      1      1      1      1      1      1      1      1      1      1\n",
       "      1      1      1      1      1      1      1      1      1      1      1\n",
       "      1      1      1      1      1      1      1      1      1      1      1\n",
       "      1      1      1      1      1      1      1      1      1      1      1\n",
       " \n",
       " Columns 22 to 26 \n",
       "      4      5      3   1308      2\n",
       "      1      1      1      1      1\n",
       "      1      1      1      1      1\n",
       "      1      1      1      1      1\n",
       "      2      1      1      1      1\n",
       "      1      1      1      1      1\n",
       "      1      1      1      1      1\n",
       "      1      1      1      1      1\n",
       "      1      1      1      1      1\n",
       "      1      1      1      1      1\n",
       "      1      1      1      1      1\n",
       "      1      1      1      1      1\n",
       "      1      1      1      1      1\n",
       "      1      1      1      1      1\n",
       "      1      1      1      1      1\n",
       " [torch.LongTensor of size 15x27], \n",
       " \n",
       " Columns 0 to 10 \n",
       "      6    112      9     65      8    289   1496     56   8777    288   2773\n",
       "     20     11   1085    331  10382   1277     45     74     88      2      1\n",
       "      4     13     31    249   1671    432     16      8   1382     34     38\n",
       "     15    492    229     76   1369      2      1      1      1      1      1\n",
       "      4    133      3    328    350     12      3   1570    903     17     14\n",
       "      4     37      3     83     60   3472     14  13341      2      1      1\n",
       "     28      5      3     23   1148    268    206    237    370    769    200\n",
       "      4      5     41    447     12      3    359   7229     82  10718   8040\n",
       "     28    173     36      6    530     16   2440     16    618     14   1088\n",
       "    846    679     12    495   3293     54     18  11894     49     17  13576\n",
       "      4      5      3     23   1518    168     19     32     99    472      2\n",
       "      4    524   7046     33   1462    203      2      1      1      1      1\n",
       "      4     13     31     12      3    328   9701     12   4706  31016      2\n",
       "      7     11   1795   2774     93      2      1      1      1      1      1\n",
       "      4      5      8  13272      2      1      1      1      1      1      1\n",
       " \n",
       " Columns 11 to 21 \n",
       "     17     16     43     14     86   2828     26      7     88     44     21\n",
       "      1      1      1      1      1      1      1      1      1      1      1\n",
       "   2370     10   2840      2      1      1      1      1      1      1      1\n",
       "      1      1      1      1      1      1      1      1      1      1      1\n",
       "      7     11    385    350    179      9      3  13215    903     10  13856\n",
       "      1      1      1      1      1      1      1      1      1      1      1\n",
       "    557      2      1      1      1      1      1      1      1      1      1\n",
       "     42    551    245      2      1      1      1      1      1      1      1\n",
       "     54    369   1117     17     18   1288    962     49      2      1      1\n",
       "     82      9      3   4137   3132     82      4   2618     52     19    112\n",
       "      1      1      1      1      1      1      1      1      1      1      1\n",
       "      1      1      1      1      1      1      1      1      1      1      1\n",
       "      1      1      1      1      1      1      1      1      1      1      1\n",
       "      1      1      1      1      1      1      1      1      1      1      1\n",
       "      1      1      1      1      1      1      1      1      1      1      1\n",
       " \n",
       " Columns 22 to 30 \n",
       "    301      2      1      1      1      1      1      1      1\n",
       "      1      1      1      1      1      1      1      1      1\n",
       "      1      1      1      1      1      1      1      1      1\n",
       "      1      1      1      1      1      1      1      1      1\n",
       "      2      1      1      1      1      1      1      1      1\n",
       "      1      1      1      1      1      1      1      1      1\n",
       "      1      1      1      1      1      1      1      1      1\n",
       "      1      1      1      1      1      1      1      1      1\n",
       "      1      1      1      1      1      1      1      1      1\n",
       "      9    255      9     41  22029    198     19    775      2\n",
       "      1      1      1      1      1      1      1      1      1\n",
       "      1      1      1      1      1      1      1      1      1\n",
       "      1      1      1      1      1      1      1      1      1\n",
       "      1      1      1      1      1      1      1      1      1\n",
       "      1      1      1      1      1      1      1      1      1\n",
       " [torch.LongTensor of size 15x31], \n",
       "     0\n",
       "     0\n",
       "     1\n",
       "     1\n",
       "     1\n",
       "     0\n",
       "     1\n",
       "     0\n",
       "     0\n",
       "     0\n",
       "     1\n",
       "     1\n",
       "     0\n",
       "     1\n",
       "     0\n",
       " [torch.FloatTensor of size 15x1]]"
      ]
     },
     "execution_count": 113,
     "metadata": {},
     "output_type": "execute_result"
    }
   ],
   "source": [
    "it = iter(trn_dl)\n",
    "its = [next(it) for i in range(5)]\n",
    "#[(len(x1),len(x2),len(y.permute(1,0))) for x1,x2,y in its]\n",
    "#[((y)) for x1,x2,y in its]\n",
    "next(it)"
   ]
  },
  {
   "cell_type": "markdown",
   "metadata": {},
   "source": [
    "### ISSUE: How do it get y transposed to shape 1X15 instead of 15X1 ?"
   ]
  },
  {
   "cell_type": "markdown",
   "metadata": {},
   "source": [
    "# Create model - simple"
   ]
  },
  {
   "cell_type": "code",
   "execution_count": 104,
   "metadata": {},
   "outputs": [],
   "source": [
    "def create_emb(vecs, itos, em_sz):\n",
    "    emb = nn.Embedding(len(itos), em_sz, padding_idx=1)\n",
    "    wgts = emb.weight.data\n",
    "    miss = []\n",
    "    for i,w in enumerate(itos):\n",
    "        try: wgts[i] = torch.from_numpy(vecs[i])\n",
    "        except: miss.append(w)\n",
    "    print(len(miss),miss[5:10])\n",
    "    return emb"
   ]
  },
  {
   "cell_type": "code",
   "execution_count": 105,
   "metadata": {},
   "outputs": [],
   "source": [
    "nh,nl = 256,2"
   ]
  },
  {
   "cell_type": "code",
   "execution_count": 106,
   "metadata": {},
   "outputs": [],
   "source": [
    "class PairRNN(nn.Module):\n",
    "    #def __init__(self, vecs_enc, itos_enc, em_sz_enc, vecs_dec, itos_dec, em_sz_dec, nh, out_sl, nl=2):\n",
    "    def __init__(self, vecs, itos, em_sz, nh, out_sl=75, nl=2, bs=100):\n",
    "        super().__init__()\n",
    "        self.nl,self.nh,self.out_sl,self.bs = nl,nh,out_sl,bs\n",
    "        self.emb = create_emb(vecs, itos, em_sz)\n",
    "        self.emb_drop = nn.Dropout(0.15)\n",
    "        self.gru = nn.GRU(em_sz, nh, num_layers=nl, dropout=0.25)\n",
    "        self.out = nn.Linear(nh, em_sz, bias=False)\n",
    "        \n",
    "    def forward(self, inp1, inp2):\n",
    "        bs = self.bs\n",
    "        h = self.initHidden(bs)\n",
    "        emb1 = self.emb_drop(self.emb(inp1.permute(1,0)))\n",
    "        emb2 = self.emb_drop(self.emb(inp2.permute(1,0)))\n",
    "        out_1, h1 = self.gru(emb1, h)\n",
    "        out_2, h2 = self.gru(emb2, h)\n",
    "        h1 = self.out(h1)\n",
    "        h2 = self.out(h2)\n",
    "        return F.cosine_similarity(h1.unsqueeze(0),h2.unsqueeze(0)).mean()\n",
    "    \n",
    "    def initHidden(self, bs): return V(torch.zeros(self.nl, bs, self.nh))"
   ]
  },
  {
   "cell_type": "code",
   "execution_count": 107,
   "metadata": {},
   "outputs": [],
   "source": [
    "opt_fn = partial(optim.Adam, betas=(0.8, 0.99))"
   ]
  },
  {
   "cell_type": "code",
   "execution_count": 108,
   "metadata": {},
   "outputs": [
    {
     "name": "stdout",
     "output_type": "stream",
     "text": [
      "0 []\n"
     ]
    }
   ],
   "source": [
    "rnn = PairRNN(new_w, itos, em_sz, nh, bs=bs)\n",
    "learn = RNN_Learner(md, SingleModel(to_gpu(rnn)), opt_fn=opt_fn)\n",
    "learn.crit = nn.L1Loss()\n",
    "#nn.CosineEmbeddingLoss()"
   ]
  },
  {
   "cell_type": "code",
   "execution_count": 109,
   "metadata": {},
   "outputs": [
    {
     "ename": "NameError",
     "evalue": "name 'lr' is not defined",
     "output_type": "error",
     "traceback": [
      "\u001b[0;31m---------------------------------------------------------------------------\u001b[0m",
      "\u001b[0;31mNameError\u001b[0m                                 Traceback (most recent call last)",
      "\u001b[0;32m<ipython-input-109-efb754056590>\u001b[0m in \u001b[0;36m<module>\u001b[0;34m()\u001b[0m\n\u001b[1;32m      1\u001b[0m \u001b[0;31m#learn.lr_find()\u001b[0m\u001b[0;34m\u001b[0m\u001b[0;34m\u001b[0m\u001b[0m\n\u001b[0;32m----> 2\u001b[0;31m \u001b[0mlearn\u001b[0m\u001b[0;34m.\u001b[0m\u001b[0mfit\u001b[0m\u001b[0;34m(\u001b[0m\u001b[0mlr\u001b[0m\u001b[0;34m,\u001b[0m \u001b[0;36m1\u001b[0m\u001b[0;34m,\u001b[0m \u001b[0mcycle_len\u001b[0m\u001b[0;34m=\u001b[0m\u001b[0;36m12\u001b[0m\u001b[0;34m,\u001b[0m \u001b[0muse_clr\u001b[0m\u001b[0;34m=\u001b[0m\u001b[0;34m(\u001b[0m\u001b[0;36m20\u001b[0m\u001b[0;34m,\u001b[0m\u001b[0;36m10\u001b[0m\u001b[0;34m)\u001b[0m\u001b[0;34m)\u001b[0m\u001b[0;34m\u001b[0m\u001b[0m\n\u001b[0m",
      "\u001b[0;31mNameError\u001b[0m: name 'lr' is not defined"
     ]
    }
   ],
   "source": [
    "#learn.lr_find()\n",
    "learn.fit(lr, 1, cycle_len=12, use_clr=(20,10))"
   ]
  },
  {
   "cell_type": "markdown",
   "metadata": {},
   "source": [
    "# Create model - with backbone"
   ]
  },
  {
   "cell_type": "code",
   "execution_count": null,
   "metadata": {},
   "outputs": [],
   "source": [
    "# TBD"
   ]
  }
 ],
 "metadata": {
  "_draft": {
   "nbviewer_url": "https://gist.github.com/0dd0df21cf404cf2bb51d0148c8b7d8b"
  },
  "gist": {
   "data": {
    "description": "fastai.text imdb example",
    "public": true
   },
   "id": "0dd0df21cf404cf2bb51d0148c8b7d8b"
  },
  "kernelspec": {
   "display_name": "Python 3",
   "language": "python",
   "name": "python3"
  },
  "language_info": {
   "codemirror_mode": {
    "name": "ipython",
    "version": 3
   },
   "file_extension": ".py",
   "mimetype": "text/x-python",
   "name": "python",
   "nbconvert_exporter": "python",
   "pygments_lexer": "ipython3",
   "version": "3.6.5"
  },
  "toc": {
   "colors": {
    "hover_highlight": "#DAA520",
    "navigate_num": "#000000",
    "navigate_text": "#333333",
    "running_highlight": "#FF0000",
    "selected_highlight": "#FFD700",
    "sidebar_border": "#EEEEEE",
    "wrapper_background": "#FFFFFF"
   },
   "moveMenuLeft": true,
   "nav_menu": {
    "height": "86px",
    "width": "252px"
   },
   "navigate_menu": true,
   "number_sections": true,
   "sideBar": true,
   "threshold": 4,
   "toc_cell": false,
   "toc_section_display": "block",
   "toc_window_display": false,
   "widenNotebook": false
  }
 },
 "nbformat": 4,
 "nbformat_minor": 2
}
