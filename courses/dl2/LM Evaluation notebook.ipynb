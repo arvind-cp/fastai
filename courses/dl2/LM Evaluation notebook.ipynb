{
 "cells": [
  {
   "cell_type": "markdown",
   "metadata": {},
   "source": [
    "## LM Evaluation"
   ]
  },
  {
   "cell_type": "code",
   "execution_count": 1,
   "metadata": {},
   "outputs": [],
   "source": [
    "from fastai.text import *\n",
    "import html"
   ]
  },
  {
   "cell_type": "code",
   "execution_count": 2,
   "metadata": {},
   "outputs": [],
   "source": [
    "PATH=Path('data/aclImdb/')\n",
    "CLAS_PATH=Path('data/imdb_clas/')\n",
    "LM_PATH=Path('data/imdb_lm/')"
   ]
  },
  {
   "cell_type": "code",
   "execution_count": 3,
   "metadata": {},
   "outputs": [],
   "source": [
    "trn_lm = np.load(LM_PATH/'tmp'/'trn_ids.npy')\n",
    "val_lm = np.load(LM_PATH/'tmp'/'val_ids.npy')\n",
    "itos = pickle.load(open(LM_PATH/'tmp'/'itos.pkl', 'rb'))"
   ]
  },
  {
   "cell_type": "code",
   "execution_count": 4,
   "metadata": {},
   "outputs": [],
   "source": [
    "max_vocab = 60000\n",
    "min_freq = 2"
   ]
  },
  {
   "cell_type": "code",
   "execution_count": 5,
   "metadata": {},
   "outputs": [
    {
     "data": {
      "text/plain": [
       "60002"
      ]
     },
     "execution_count": 5,
     "metadata": {},
     "output_type": "execute_result"
    }
   ],
   "source": [
    "stoi = collections.defaultdict(lambda:0, {v:k for k,v in enumerate(itos)})\n",
    "len(itos)"
   ]
  },
  {
   "cell_type": "code",
   "execution_count": 6,
   "metadata": {},
   "outputs": [
    {
     "data": {
      "text/plain": [
       "(60002, 90000)"
      ]
     },
     "execution_count": 6,
     "metadata": {},
     "output_type": "execute_result"
    }
   ],
   "source": [
    "vs=len(itos)\n",
    "vs,len(trn_lm)"
   ]
  },
  {
   "cell_type": "code",
   "execution_count": 7,
   "metadata": {},
   "outputs": [],
   "source": [
    "em_sz,nh,nl = 400,1150,3"
   ]
  },
  {
   "cell_type": "markdown",
   "metadata": {},
   "source": [
    "## Load existing LM model and weights"
   ]
  },
  {
   "cell_type": "code",
   "execution_count": 8,
   "metadata": {},
   "outputs": [],
   "source": [
    "PRE_PATH = PATH/'models'/'wt103'\n",
    "PRE_LM_PATH = PRE_PATH/'fwd_wt103.h5'"
   ]
  },
  {
   "cell_type": "code",
   "execution_count": 9,
   "metadata": {},
   "outputs": [],
   "source": [
    "wgts = torch.load(PRE_LM_PATH, map_location=lambda storage, loc: storage)"
   ]
  },
  {
   "cell_type": "code",
   "execution_count": 10,
   "metadata": {},
   "outputs": [],
   "source": [
    "wd=1e-7\n",
    "bptt=70\n",
    "bs=250\n",
    "opt_fn = partial(optim.Adam, betas=(0.8, 0.99))"
   ]
  },
  {
   "cell_type": "code",
   "execution_count": 11,
   "metadata": {},
   "outputs": [],
   "source": [
    "trn_dl = LanguageModelLoader(np.concatenate(trn_lm), bs, bptt)\n",
    "val_dl = LanguageModelLoader(np.concatenate(val_lm), bs, bptt)\n",
    "md = LanguageModelData(PATH, 1, vs, trn_dl, val_dl, bs=bs, bptt=bptt)"
   ]
  },
  {
   "cell_type": "code",
   "execution_count": 12,
   "metadata": {},
   "outputs": [],
   "source": [
    "drops = np.array([0.25, 0.1, 0.2, 0.02, 0.15])*0.7"
   ]
  },
  {
   "cell_type": "code",
   "execution_count": 13,
   "metadata": {},
   "outputs": [],
   "source": [
    "learner= md.get_model(opt_fn, em_sz, nh, nl, \n",
    "    dropouti=drops[0], dropout=drops[1], wdrop=drops[2], dropoute=drops[3], dropouth=drops[4])\n",
    "\n",
    "learner.metrics = [accuracy]\n",
    "learner.unfreeze()"
   ]
  },
  {
   "cell_type": "markdown",
   "metadata": {},
   "source": [
    "## Replace weights from classifier-encoder (not LM)"
   ]
  },
  {
   "cell_type": "code",
   "execution_count": 14,
   "metadata": {},
   "outputs": [],
   "source": [
    "learner.load('lm1')\n",
    "#learner.load_encoder('lm1_enc')\n",
    "learner.load_encoder('clas_2_enc')"
   ]
  },
  {
   "cell_type": "markdown",
   "metadata": {},
   "source": [
    "## Let's evaluate"
   ]
  },
  {
   "cell_type": "markdown",
   "metadata": {},
   "source": [
    "Our goal: Encode 3 sentences using a pre-trained encoder and check the similarity scores between each pair of sentences. We use 2 methods to calculate semantic similarity: cosine similarity and inner product of encodings."
   ]
  },
  {
   "cell_type": "code",
   "execution_count": 15,
   "metadata": {},
   "outputs": [],
   "source": [
    "# cosine similarity - to check quality of our sentence encoder\n",
    "def cos_sim(v1,v2):\n",
    "    return F.cosine_similarity(T(v1).unsqueeze(0),T(v2).unsqueeze(0)).mean()"
   ]
  },
  {
   "cell_type": "markdown",
   "metadata": {},
   "source": [
    "### Round 1 - simple sentences"
   ]
  },
  {
   "cell_type": "code",
   "execution_count": 16,
   "metadata": {},
   "outputs": [],
   "source": [
    "x_inp = [\"i like apples\",\n",
    "         \"i want to buy some apples\",\n",
    "         \"where is your cell phone\"]"
   ]
  },
  {
   "cell_type": "code",
   "execution_count": 17,
   "metadata": {},
   "outputs": [],
   "source": [
    "tok = Tokenizer().proc_all_mp(partition_by_cores(x_inp))"
   ]
  },
  {
   "cell_type": "code",
   "execution_count": 18,
   "metadata": {},
   "outputs": [
    {
     "data": {
      "text/plain": [
       "[['i', 'like', 'apples'],\n",
       " ['i', 'want', 'to', 'buy', 'some', 'apples'],\n",
       " ['where', 'is', 'your', 'cell', 'phone']]"
      ]
     },
     "execution_count": 18,
     "metadata": {},
     "output_type": "execute_result"
    }
   ],
   "source": [
    "tok"
   ]
  },
  {
   "cell_type": "code",
   "execution_count": 19,
   "metadata": {},
   "outputs": [
    {
     "data": {
      "text/plain": [
       "[[12, 52, 13154], [12, 203, 8, 808, 64, 13154], [134, 9, 146, 2739, 1668]]"
      ]
     },
     "execution_count": 19,
     "metadata": {},
     "output_type": "execute_result"
    }
   ],
   "source": [
    "X = [[stoi[o1] for o1 in o] for o in tok]; X"
   ]
  },
  {
   "cell_type": "code",
   "execution_count": 20,
   "metadata": {},
   "outputs": [
    {
     "data": {
      "text/plain": [
       "(400,)"
      ]
     },
     "execution_count": 20,
     "metadata": {},
     "output_type": "execute_result"
    }
   ],
   "source": [
    "m = learner.model\n",
    "\n",
    "# Set batch size to 1\n",
    "#m[0].bs=1\n",
    "# Turn off dropout\n",
    "#m.eval()\n",
    "# Reset hidden state\n",
    "#m.reset()\n",
    "\n",
    "kk0=m[0](V(T([X[0]]))) #first sentence in X - sentence level encoding....10 words 400 dim vecs\n",
    "kk1=m[0](V(T([X[1]]))) #second sentence in X - sentence level encoding....10 words 400 dim vecs\n",
    "kk2=m[0](V(T([X[2]]))) #third sentence in X - sentence level encoding....10 words 400 dim vecs\n",
    "\n",
    "\n",
    "kk0=to_np(kk0)\n",
    "kk1=to_np(kk1)\n",
    "kk2=to_np(kk2)\n",
    "\n",
    "\n",
    "kk0 = (kk0[0][2][0][-1]) # 1st sentence encoding 400 dims. -1 is the last element that's supposed to have the final encoded state\n",
    "kk1 = (kk1[0][2][0][-1]) # 2nd sentence encoding 400 dims\n",
    "kk2 = (kk2[0][2][0][-1]) # 3rd sentence encoding 400 dims\n",
    "\n",
    "\n",
    "kk1.shape"
   ]
  },
  {
   "cell_type": "code",
   "execution_count": 21,
   "metadata": {},
   "outputs": [
    {
     "data": {
      "text/plain": [
       "['i like apples', 'i want to buy some apples', 'where is your cell phone']"
      ]
     },
     "execution_count": 21,
     "metadata": {},
     "output_type": "execute_result"
    }
   ],
   "source": [
    "x_inp"
   ]
  },
  {
   "cell_type": "code",
   "execution_count": 22,
   "metadata": {},
   "outputs": [
    {
     "data": {
      "text/plain": [
       "(0.9108594655990601, 0.1530112475156784, 0.16146282851696014)"
      ]
     },
     "execution_count": 22,
     "metadata": {},
     "output_type": "execute_result"
    }
   ],
   "source": [
    "cos_sim(kk0,kk1), cos_sim(kk1,kk2), cos_sim(kk0,kk2)"
   ]
  },
  {
   "cell_type": "code",
   "execution_count": 23,
   "metadata": {},
   "outputs": [
    {
     "data": {
      "text/plain": [
       "2.4458122"
      ]
     },
     "execution_count": 23,
     "metadata": {},
     "output_type": "execute_result"
    }
   ],
   "source": [
    "np.inner(kk0,kk1)"
   ]
  },
  {
   "cell_type": "code",
   "execution_count": 24,
   "metadata": {},
   "outputs": [
    {
     "data": {
      "text/plain": [
       "0.6681246"
      ]
     },
     "execution_count": 24,
     "metadata": {},
     "output_type": "execute_result"
    }
   ],
   "source": [
    "np.inner(kk1,kk2)"
   ]
  },
  {
   "cell_type": "code",
   "execution_count": 25,
   "metadata": {},
   "outputs": [
    {
     "data": {
      "text/plain": [
       "0.670863"
      ]
     },
     "execution_count": 25,
     "metadata": {},
     "output_type": "execute_result"
    }
   ],
   "source": [
    "np.inner(kk0,kk2)"
   ]
  },
  {
   "cell_type": "markdown",
   "metadata": {},
   "source": [
    "### Round 2 - increase sentence complexity"
   ]
  },
  {
   "cell_type": "code",
   "execution_count": 26,
   "metadata": {},
   "outputs": [],
   "source": [
    "x_inp = [\"i like apples and oranges\",\n",
    "         \"i hate all fruits especially apples and oranges\",\n",
    "         \"i am going to buy some apples and oranges\"]"
   ]
  },
  {
   "cell_type": "code",
   "execution_count": 27,
   "metadata": {},
   "outputs": [],
   "source": [
    "tok = Tokenizer().proc_all_mp(partition_by_cores(x_inp))"
   ]
  },
  {
   "cell_type": "code",
   "execution_count": 28,
   "metadata": {},
   "outputs": [
    {
     "data": {
      "text/plain": [
       "[['i', 'like', 'apples', 'and', 'oranges'],\n",
       " ['i', 'hate', 'all', 'fruits', 'especially', 'apples', 'and', 'oranges'],\n",
       " ['i', 'am', 'going', 'to', 'buy', 'some', 'apples', 'and', 'oranges']]"
      ]
     },
     "execution_count": 28,
     "metadata": {},
     "output_type": "execute_result"
    }
   ],
   "source": [
    "tok"
   ]
  },
  {
   "cell_type": "code",
   "execution_count": 29,
   "metadata": {},
   "outputs": [
    {
     "data": {
      "text/plain": [
       "[[12, 52, 13154, 5, 20864],\n",
       " [12, 738, 43, 22144, 280, 13154, 5, 20864],\n",
       " [12, 261, 182, 8, 808, 64, 13154, 5, 20864]]"
      ]
     },
     "execution_count": 29,
     "metadata": {},
     "output_type": "execute_result"
    }
   ],
   "source": [
    "X = [[stoi[o1] for o1 in o] for o in tok]; X"
   ]
  },
  {
   "cell_type": "code",
   "execution_count": 30,
   "metadata": {},
   "outputs": [
    {
     "data": {
      "text/plain": [
       "(400,)"
      ]
     },
     "execution_count": 30,
     "metadata": {},
     "output_type": "execute_result"
    }
   ],
   "source": [
    "m = learner.model\n",
    "\n",
    "# Set batch size to 1\n",
    "#m[0].bs=1\n",
    "# Turn off dropout\n",
    "#m.eval()\n",
    "# Reset hidden state\n",
    "#m.reset()\n",
    "\n",
    "kk0=m[0](V(T([X[0]]))) #first sentence in X - sentence level encoding....400 dim vecs\n",
    "kk1=m[0](V(T([X[1]]))) #second sentence in X - sentence level encoding....400 dim vecs\n",
    "kk2=m[0](V(T([X[2]]))) #third sentence in X - sentence level encoding....400 dim vecs\n",
    "\n",
    "\n",
    "kk0=to_np(kk0)\n",
    "kk1=to_np(kk1)\n",
    "kk2=to_np(kk2)\n",
    "\n",
    "\n",
    "kk0 = (kk0[0][2][0][-1]) # 1st sentence encoding 400 dims. -1 is the last element that's supposed to have the final encoded state\n",
    "kk1 = (kk1[0][2][0][-1]) # 2nd sentence encoding 400 dims\n",
    "kk2 = (kk2[0][2][0][-1]) # 3rd sentence encoding 400 dims\n",
    "\n",
    "\n",
    "kk1.shape"
   ]
  },
  {
   "cell_type": "code",
   "execution_count": 31,
   "metadata": {},
   "outputs": [
    {
     "data": {
      "text/plain": [
       "['i like apples and oranges',\n",
       " 'i hate all fruits especially apples and oranges',\n",
       " 'i am going to buy some apples and oranges']"
      ]
     },
     "execution_count": 31,
     "metadata": {},
     "output_type": "execute_result"
    }
   ],
   "source": [
    "x_inp"
   ]
  },
  {
   "cell_type": "code",
   "execution_count": 32,
   "metadata": {},
   "outputs": [
    {
     "data": {
      "text/plain": [
       "(0.5731163620948792, 0.9138398170471191, 0.5365544557571411)"
      ]
     },
     "execution_count": 32,
     "metadata": {},
     "output_type": "execute_result"
    }
   ],
   "source": [
    "cos_sim(kk0,kk1), cos_sim(kk1,kk2), cos_sim(kk0,kk2)"
   ]
  },
  {
   "cell_type": "code",
   "execution_count": 33,
   "metadata": {},
   "outputs": [
    {
     "data": {
      "text/plain": [
       "0.85583323"
      ]
     },
     "execution_count": 33,
     "metadata": {},
     "output_type": "execute_result"
    }
   ],
   "source": [
    "np.inner(kk0,kk1)"
   ]
  },
  {
   "cell_type": "code",
   "execution_count": 34,
   "metadata": {},
   "outputs": [
    {
     "data": {
      "text/plain": [
       "2.142747"
      ]
     },
     "execution_count": 34,
     "metadata": {},
     "output_type": "execute_result"
    }
   ],
   "source": [
    "np.inner(kk1,kk2)"
   ]
  },
  {
   "cell_type": "code",
   "execution_count": 35,
   "metadata": {},
   "outputs": [
    {
     "data": {
      "text/plain": [
       "0.8784741"
      ]
     },
     "execution_count": 35,
     "metadata": {},
     "output_type": "execute_result"
    }
   ],
   "source": [
    "np.inner(kk0,kk2)"
   ]
  },
  {
   "cell_type": "code",
   "execution_count": null,
   "metadata": {},
   "outputs": [],
   "source": []
  },
  {
   "cell_type": "markdown",
   "metadata": {},
   "source": [
    "### Round 3 - more complex!"
   ]
  },
  {
   "cell_type": "code",
   "execution_count": 36,
   "metadata": {},
   "outputs": [],
   "source": [
    "x_inp = [\"let's talk about fruits for a second. Apples are nice. Oranges too. I kinda like them.\",\n",
    "         \"i compared the prices of apples and oranges at walmart and kroger stores\",\n",
    "         \"oh you wanna talk about apples. sure. i am not sure if i have said this before but i do like them and oranges.\"]"
   ]
  },
  {
   "cell_type": "code",
   "execution_count": 37,
   "metadata": {},
   "outputs": [],
   "source": [
    "tok = Tokenizer().proc_all_mp(partition_by_cores(x_inp))"
   ]
  },
  {
   "cell_type": "code",
   "execution_count": 38,
   "metadata": {},
   "outputs": [
    {
     "data": {
      "text/plain": [
       "[['let',\n",
       "  \"'s\",\n",
       "  'talk',\n",
       "  'about',\n",
       "  'fruits',\n",
       "  'for',\n",
       "  'a',\n",
       "  'second',\n",
       "  '.',\n",
       "  'apples',\n",
       "  'are',\n",
       "  'nice',\n",
       "  '.',\n",
       "  'oranges',\n",
       "  'too',\n",
       "  '.',\n",
       "  'i',\n",
       "  'kinda',\n",
       "  'like',\n",
       "  'them',\n",
       "  '.'],\n",
       " ['i',\n",
       "  'compared',\n",
       "  'the',\n",
       "  'prices',\n",
       "  'of',\n",
       "  'apples',\n",
       "  'and',\n",
       "  'oranges',\n",
       "  'at',\n",
       "  'walmart',\n",
       "  'and',\n",
       "  'kroger',\n",
       "  'stores'],\n",
       " ['oh',\n",
       "  'you',\n",
       "  'wanna',\n",
       "  'talk',\n",
       "  'about',\n",
       "  'apples',\n",
       "  '.',\n",
       "  'sure',\n",
       "  '.',\n",
       "  'i',\n",
       "  'am',\n",
       "  'not',\n",
       "  'sure',\n",
       "  'if',\n",
       "  'i',\n",
       "  'have',\n",
       "  'said',\n",
       "  'this',\n",
       "  'before',\n",
       "  'but',\n",
       "  'i',\n",
       "  'do',\n",
       "  'like',\n",
       "  'them',\n",
       "  'and',\n",
       "  'oranges',\n",
       "  '.']]"
      ]
     },
     "execution_count": 38,
     "metadata": {},
     "output_type": "execute_result"
    }
   ],
   "source": [
    "tok"
   ]
  },
  {
   "cell_type": "code",
   "execution_count": 39,
   "metadata": {},
   "outputs": [
    {
     "data": {
      "text/plain": [
       "[[302,\n",
       "  16,\n",
       "  713,\n",
       "  58,\n",
       "  22144,\n",
       "  22,\n",
       "  6,\n",
       "  349,\n",
       "  3,\n",
       "  13154,\n",
       "  33,\n",
       "  358,\n",
       "  3,\n",
       "  20864,\n",
       "  116,\n",
       "  3,\n",
       "  12,\n",
       "  2040,\n",
       "  52,\n",
       "  110,\n",
       "  3],\n",
       " [12, 1128, 2, 12023, 7, 13154, 5, 20864, 44, 17680, 5, 0, 5400],\n",
       " [452,\n",
       "  26,\n",
       "  2890,\n",
       "  713,\n",
       "  58,\n",
       "  13154,\n",
       "  3,\n",
       "  273,\n",
       "  3,\n",
       "  12,\n",
       "  261,\n",
       "  32,\n",
       "  273,\n",
       "  62,\n",
       "  12,\n",
       "  36,\n",
       "  326,\n",
       "  13,\n",
       "  176,\n",
       "  24,\n",
       "  12,\n",
       "  57,\n",
       "  52,\n",
       "  110,\n",
       "  5,\n",
       "  20864,\n",
       "  3]]"
      ]
     },
     "execution_count": 39,
     "metadata": {},
     "output_type": "execute_result"
    }
   ],
   "source": [
    "X = [[stoi[o1] for o1 in o] for o in tok]; X"
   ]
  },
  {
   "cell_type": "code",
   "execution_count": 40,
   "metadata": {},
   "outputs": [
    {
     "data": {
      "text/plain": [
       "(400,)"
      ]
     },
     "execution_count": 40,
     "metadata": {},
     "output_type": "execute_result"
    }
   ],
   "source": [
    "m = learner.model\n",
    "\n",
    "# Set batch size to 1\n",
    "#m[0].bs=1\n",
    "# Turn off dropout\n",
    "#m.eval()\n",
    "# Reset hidden state\n",
    "#m.reset()\n",
    "\n",
    "kk0=m[0](V(T([X[0]]))) #first sentence in X - sentence level encoding....400 dim vecs\n",
    "kk1=m[0](V(T([X[1]]))) #second sentence in X - sentence level encoding....400 dim vecs\n",
    "kk2=m[0](V(T([X[2]]))) #third sentence in X - sentence level encoding....400 dim vecs\n",
    "\n",
    "\n",
    "kk0=to_np(kk0)\n",
    "kk1=to_np(kk1)\n",
    "kk2=to_np(kk2)\n",
    "\n",
    "\n",
    "kk0 = (kk0[0][2][0][-1]) # 1st sentence encoding 400 dims. -1 is the last element that's supposed to have the final encoded state\n",
    "kk1 = (kk1[0][2][0][-1]) # 2nd sentence encoding 400 dims\n",
    "kk2 = (kk2[0][2][0][-1]) # 3rd sentence encoding 400 dims\n",
    "\n",
    "\n",
    "kk1.shape"
   ]
  },
  {
   "cell_type": "code",
   "execution_count": 41,
   "metadata": {},
   "outputs": [
    {
     "data": {
      "text/plain": [
       "[\"let's talk about fruits for a second. Apples are nice. Oranges too. I kinda like them.\",\n",
       " 'i compared the prices of apples and oranges at walmart and kroger stores',\n",
       " 'oh you wanna talk about apples. sure. i am not sure if i have said this before but i do like them and oranges.']"
      ]
     },
     "execution_count": 41,
     "metadata": {},
     "output_type": "execute_result"
    }
   ],
   "source": [
    "x_inp"
   ]
  },
  {
   "cell_type": "code",
   "execution_count": 42,
   "metadata": {},
   "outputs": [
    {
     "data": {
      "text/plain": [
       "(0.30107757449150085, 0.28530433773994446, 0.9661124348640442)"
      ]
     },
     "execution_count": 42,
     "metadata": {},
     "output_type": "execute_result"
    }
   ],
   "source": [
    "cos_sim(kk0,kk1), cos_sim(kk1,kk2), cos_sim(kk0,kk2)"
   ]
  },
  {
   "cell_type": "code",
   "execution_count": 43,
   "metadata": {},
   "outputs": [
    {
     "data": {
      "text/plain": [
       "0.5728831"
      ]
     },
     "execution_count": 43,
     "metadata": {},
     "output_type": "execute_result"
    }
   ],
   "source": [
    "np.inner(kk0,kk1)"
   ]
  },
  {
   "cell_type": "code",
   "execution_count": 44,
   "metadata": {},
   "outputs": [
    {
     "data": {
      "text/plain": [
       "0.55668664"
      ]
     },
     "execution_count": 44,
     "metadata": {},
     "output_type": "execute_result"
    }
   ],
   "source": [
    "np.inner(kk1,kk2)"
   ]
  },
  {
   "cell_type": "code",
   "execution_count": 45,
   "metadata": {},
   "outputs": [
    {
     "data": {
      "text/plain": [
       "1.6137743"
      ]
     },
     "execution_count": 45,
     "metadata": {},
     "output_type": "execute_result"
    }
   ],
   "source": [
    "np.inner(kk0,kk2)"
   ]
  },
  {
   "cell_type": "markdown",
   "metadata": {},
   "source": [
    "### Round 4 - really complex"
   ]
  },
  {
   "cell_type": "code",
   "execution_count": 46,
   "metadata": {},
   "outputs": [],
   "source": [
    "x_inp = [\"there is no comparison here. you are comparing apples to oranges\",\n",
    "         \"i compared the prices of apples and oranges at walmart and kroger stores\",\n",
    "         \"i don't see anything common between these two categories.\"]"
   ]
  },
  {
   "cell_type": "code",
   "execution_count": 47,
   "metadata": {},
   "outputs": [],
   "source": [
    "tok = Tokenizer().proc_all_mp(partition_by_cores(x_inp))"
   ]
  },
  {
   "cell_type": "code",
   "execution_count": 48,
   "metadata": {},
   "outputs": [
    {
     "data": {
      "text/plain": [
       "[['there',\n",
       "  'is',\n",
       "  'no',\n",
       "  'comparison',\n",
       "  'here',\n",
       "  '.',\n",
       "  'you',\n",
       "  'are',\n",
       "  'comparing',\n",
       "  'apples',\n",
       "  'to',\n",
       "  'oranges'],\n",
       " ['i',\n",
       "  'compared',\n",
       "  'the',\n",
       "  'prices',\n",
       "  'of',\n",
       "  'apples',\n",
       "  'and',\n",
       "  'oranges',\n",
       "  'at',\n",
       "  'walmart',\n",
       "  'and',\n",
       "  'kroger',\n",
       "  'stores'],\n",
       " ['i',\n",
       "  'do',\n",
       "  \"n't\",\n",
       "  'see',\n",
       "  'anything',\n",
       "  'common',\n",
       "  'between',\n",
       "  'these',\n",
       "  'two',\n",
       "  'categories',\n",
       "  '.']]"
      ]
     },
     "execution_count": 48,
     "metadata": {},
     "output_type": "execute_result"
    }
   ],
   "source": [
    "tok"
   ]
  },
  {
   "cell_type": "code",
   "execution_count": 49,
   "metadata": {},
   "outputs": [
    {
     "data": {
      "text/plain": [
       "[[53, 9, 73, 1884, 148, 3, 26, 33, 4324, 13154, 8, 20864],\n",
       " [12, 1128, 2, 12023, 7, 13154, 5, 20864, 44, 17680, 5, 0, 5400],\n",
       " [12, 57, 29, 83, 255, 1116, 222, 150, 126, 9281, 3]]"
      ]
     },
     "execution_count": 49,
     "metadata": {},
     "output_type": "execute_result"
    }
   ],
   "source": [
    "X = [[stoi[o1] for o1 in o] for o in tok]; X"
   ]
  },
  {
   "cell_type": "code",
   "execution_count": 50,
   "metadata": {},
   "outputs": [
    {
     "data": {
      "text/plain": [
       "(400,)"
      ]
     },
     "execution_count": 50,
     "metadata": {},
     "output_type": "execute_result"
    }
   ],
   "source": [
    "m = learner.model\n",
    "\n",
    "# Set batch size to 1\n",
    "#m[0].bs=1\n",
    "# Turn off dropout\n",
    "#m.eval()\n",
    "# Reset hidden state\n",
    "#m.reset()\n",
    "\n",
    "kk0=m[0](V(T([X[0]]))) #first sentence in X - sentence level encoding....400 dim vecs\n",
    "kk1=m[0](V(T([X[1]]))) #second sentence in X - sentence level encoding....400 dim vecs\n",
    "kk2=m[0](V(T([X[2]]))) #third sentence in X - sentence level encoding....400 dim vecs\n",
    "\n",
    "\n",
    "kk0=to_np(kk0)\n",
    "kk1=to_np(kk1)\n",
    "kk2=to_np(kk2)\n",
    "\n",
    "\n",
    "kk0 = (kk0[0][2][0][-1]) # 1st sentence encoding 400 dims. -1 is the last element that's supposed to have the final encoded state\n",
    "kk1 = (kk1[0][2][0][-1]) # 2nd sentence encoding 400 dims\n",
    "kk2 = (kk2[0][2][0][-1]) # 3rd sentence encoding 400 dims\n",
    "\n",
    "\n",
    "kk1.shape"
   ]
  },
  {
   "cell_type": "code",
   "execution_count": 51,
   "metadata": {},
   "outputs": [
    {
     "data": {
      "text/plain": [
       "['there is no comparison here. you are comparing apples to oranges',\n",
       " 'i compared the prices of apples and oranges at walmart and kroger stores',\n",
       " \"i don't see anything common between these two categories.\"]"
      ]
     },
     "execution_count": 51,
     "metadata": {},
     "output_type": "execute_result"
    }
   ],
   "source": [
    "x_inp"
   ]
  },
  {
   "cell_type": "code",
   "execution_count": 52,
   "metadata": {},
   "outputs": [
    {
     "data": {
      "text/plain": [
       "(0.42863762378692627, 0.25566914677619934, 0.11218404769897461)"
      ]
     },
     "execution_count": 52,
     "metadata": {},
     "output_type": "execute_result"
    }
   ],
   "source": [
    "cos_sim(kk0,kk1), cos_sim(kk1,kk2), cos_sim(kk0,kk2)"
   ]
  },
  {
   "cell_type": "code",
   "execution_count": 53,
   "metadata": {},
   "outputs": [
    {
     "data": {
      "text/plain": [
       "1.0221705"
      ]
     },
     "execution_count": 53,
     "metadata": {},
     "output_type": "execute_result"
    }
   ],
   "source": [
    "np.inner(kk0,kk1)"
   ]
  },
  {
   "cell_type": "code",
   "execution_count": 54,
   "metadata": {},
   "outputs": [
    {
     "data": {
      "text/plain": [
       "0.4332598"
      ]
     },
     "execution_count": 54,
     "metadata": {},
     "output_type": "execute_result"
    }
   ],
   "source": [
    "np.inner(kk1,kk2)"
   ]
  },
  {
   "cell_type": "code",
   "execution_count": 55,
   "metadata": {},
   "outputs": [
    {
     "data": {
      "text/plain": [
       "0.25929877"
      ]
     },
     "execution_count": 55,
     "metadata": {},
     "output_type": "execute_result"
    }
   ],
   "source": [
    "np.inner(kk0,kk2)"
   ]
  }
 ],
 "metadata": {
  "_draft": {
   "nbviewer_url": "https://gist.github.com/0dd0df21cf404cf2bb51d0148c8b7d8b"
  },
  "gist": {
   "data": {
    "description": "fastai.text imdb example",
    "public": true
   },
   "id": "0dd0df21cf404cf2bb51d0148c8b7d8b"
  },
  "kernelspec": {
   "display_name": "Python 3",
   "language": "python",
   "name": "python3"
  },
  "language_info": {
   "codemirror_mode": {
    "name": "ipython",
    "version": 3
   },
   "file_extension": ".py",
   "mimetype": "text/x-python",
   "name": "python",
   "nbconvert_exporter": "python",
   "pygments_lexer": "ipython3",
   "version": "3.6.5"
  },
  "toc": {
   "colors": {
    "hover_highlight": "#DAA520",
    "navigate_num": "#000000",
    "navigate_text": "#333333",
    "running_highlight": "#FF0000",
    "selected_highlight": "#FFD700",
    "sidebar_border": "#EEEEEE",
    "wrapper_background": "#FFFFFF"
   },
   "moveMenuLeft": true,
   "nav_menu": {
    "height": "86px",
    "width": "252px"
   },
   "navigate_menu": true,
   "number_sections": true,
   "sideBar": true,
   "threshold": 4,
   "toc_cell": false,
   "toc_section_display": "block",
   "toc_window_display": false,
   "widenNotebook": false
  }
 },
 "nbformat": 4,
 "nbformat_minor": 2
}
